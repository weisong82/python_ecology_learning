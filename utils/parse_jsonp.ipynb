{
 "cells": [
  {
   "cell_type": "code",
   "execution_count": 1,
   "metadata": {},
   "outputs": [],
   "source": [
    "import re,json\n",
    "\n",
    "def parse_jsonp(jsonp_str): ##jsonp处理\n",
    "    try:\n",
    "        return json.loads( re.search('^[^(]*?\\((.*)\\)[^)]*$', jsonp_str).group(1) )\n",
    "    except:\n",
    "        raise ValueError('Invalid JSONP')"
   ]
  },
  {
   "cell_type": "code",
   "execution_count": 7,
   "metadata": {},
   "outputs": [
    {
     "name": "stdout",
     "output_type": "stream",
     "text": [
      "{'code': 'CA1998', 'price': 1780, 'tickets': 5}\n"
     ]
    }
   ],
   "source": [
    "if __name__==\"__main__\":\n",
    "    st1 = 'flightHandler({ \"code\": \"CA1998\", \"price\": 1780, \"tickets\": 5 });'\n",
    "    \n",
    "    print(parse_jsonp(st1))"
   ]
  },
  {
   "cell_type": "code",
   "execution_count": null,
   "metadata": {},
   "outputs": [],
   "source": []
  }
 ],
 "metadata": {
  "kernelspec": {
   "display_name": "Python 3",
   "language": "python",
   "name": "python3"
  },
  "language_info": {
   "codemirror_mode": {
    "name": "ipython",
    "version": 3
   },
   "file_extension": ".py",
   "mimetype": "text/x-python",
   "name": "python",
   "nbconvert_exporter": "python",
   "pygments_lexer": "ipython3",
   "version": "3.6.3"
  }
 },
 "nbformat": 4,
 "nbformat_minor": 2
}
