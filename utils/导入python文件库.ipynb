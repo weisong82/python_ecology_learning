{
 "cells": [
  {
   "cell_type": "code",
   "execution_count": 1,
   "metadata": {},
   "outputs": [],
   "source": [
    "import sys\n",
    "#sys.path.insert(0, '/data/CDW/python_utils/') ##手动把目录加入系统环境path\n",
    "\n",
    "\n",
    "## 修改系统环境变量，把函数包放进去\n",
    "##for ipython  python_utils package improt\n",
    "export PATH=/data/CDW/python_utils/:$PATH"
   ]
  },
  {
   "cell_type": "code",
   "execution_count": 2,
   "metadata": {},
   "outputs": [
    {
     "name": "stdout",
     "output_type": "stream",
     "text": [
      "['', '/root/miniconda3/lib/python36.zip', '/root/miniconda3/lib/python3.6', '/root/miniconda3/lib/python3.6/lib-dynload', '/root/miniconda3/lib/python3.6/site-packages', '/root/miniconda3/lib/python3.6/site-packages/IPython/extensions', '/root/.ipython']\n"
     ]
    }
   ],
   "source": [
    "print(sys.path)\n",
    "\n",
    "print(sys.path.)"
   ]
  },
  {
   "cell_type": "code",
   "execution_count": null,
   "metadata": {},
   "outputs": [],
   "source": [
    "print(sys.path)\n",
    "from date_calendar import rangeDate\n",
    "import datetime"
   ]
  }
 ],
 "metadata": {
  "kernelspec": {
   "display_name": "Python 3",
   "language": "python",
   "name": "python3"
  },
  "language_info": {
   "codemirror_mode": {
    "name": "ipython",
    "version": 3
   },
   "file_extension": ".py",
   "mimetype": "text/x-python",
   "name": "python",
   "nbconvert_exporter": "python",
   "pygments_lexer": "ipython3",
   "version": "3.6.3"
  }
 },
 "nbformat": 4,
 "nbformat_minor": 2
}
