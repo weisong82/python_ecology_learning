{
 "cells": [
  {
   "cell_type": "markdown",
   "metadata": {},
   "source": [
    "# if esle 条件"
   ]
  },
  {
   "cell_type": "code",
   "execution_count": 8,
   "metadata": {},
   "outputs": [],
   "source": [
    "from IPython.core.interactiveshell import InteractiveShell\n",
    "InteractiveShell.ast_node_interactivity = \"all\"\n",
    "\n",
    "\n",
    "def tld(x):\n",
    "    # 如果 x 非None，则替代www.为空\n",
    "    if x is not None and x.find('.') != -1:\n",
    "        x = x.replace(\"www.\", \"\")\n",
    "        # 返回剩余.以后的字段\n",
    "        tld = x[x.find('.'):]\n",
    "        # logger.info(\"[tld-function]-input:{}-output:{}\".format(x, tld))\n",
    "        return tld\n",
    "    else:\n",
    "        return None"
   ]
  },
  {
   "cell_type": "code",
   "execution_count": 9,
   "metadata": {},
   "outputs": [
    {
     "name": "stdout",
     "output_type": "stream",
     "text": [
      ".org\n",
      ".org.cn\n",
      "None\n"
     ]
    }
   ],
   "source": [
    "print(tld('赎回英文.org'))\n",
    "print(tld('赎回英文.org.cn'))\n",
    "print(tld('赎回英文'))"
   ]
  },
  {
   "cell_type": "code",
   "execution_count": 6,
   "metadata": {},
   "outputs": [
    {
     "name": "stdout",
     "output_type": "stream",
     "text": [
      "YES!\n"
     ]
    }
   ],
   "source": [
    "if 'str'.find(\"01\"):  ##find 找不到返回-1 找到0-n    if条件默认判断 是否等于0\n",
    "    print( \"YES!\")\n",
    "else:\n",
    "    print(  \"NO!\")"
   ]
  },
  {
   "cell_type": "code",
   "execution_count": 18,
   "metadata": {},
   "outputs": [
    {
     "data": {
      "text/plain": [
       "'3ef729ccf0cc56079ca546d58083dc12'"
      ]
     },
     "execution_count": 18,
     "metadata": {},
     "output_type": "execute_result"
    }
   ],
   "source": [
    "import hashlib\n",
    "m = hashlib.md5()\n",
    "m.update(\"Nobody inspects\".encode('utf-8'))\n",
    "\n",
    "m.hexdigest()"
   ]
  },
  {
   "cell_type": "code",
   "execution_count": null,
   "metadata": {},
   "outputs": [],
   "source": []
  }
 ],
 "metadata": {
  "kernelspec": {
   "display_name": "Python 3",
   "language": "python",
   "name": "python3"
  },
  "language_info": {
   "codemirror_mode": {
    "name": "ipython",
    "version": 3
   },
   "file_extension": ".py",
   "mimetype": "text/x-python",
   "name": "python",
   "nbconvert_exporter": "python",
   "pygments_lexer": "ipython3",
   "version": "3.6.3"
  }
 },
 "nbformat": 4,
 "nbformat_minor": 2
}
