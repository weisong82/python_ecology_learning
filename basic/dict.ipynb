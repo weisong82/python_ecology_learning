{
 "cells": [
  {
   "cell_type": "code",
   "execution_count": 24,
   "metadata": {},
   "outputs": [],
   "source": [
    "# 候鸟数据库配置信息\n",
    "MIG_DB_DICT = {\n",
    "    'gzopen': {\n",
    "        'host': '10.249.3.1',\n",
    "        'port': 14954,\n",
    "        'user': 'root',\n",
    "        'passwd': '222',\n",
    "        'db': '1'\n",
    "    },\n",
    "    'dev': {\n",
    "        'host': '10.3.30.1',\n",
    "        'port': 3340,\n",
    "        'user': 'root',\n",
    "        'passwd': '2',\n",
    "        'db': '1'\n",
    "    }\n",
    "}\n"
   ]
  },
  {
   "cell_type": "code",
   "execution_count": 25,
   "metadata": {},
   "outputs": [
    {
     "data": {
      "text/plain": [
       "dict_items([('gzopen', {'host': '10.249.3.199', 'port': 14954, 'user': 'root', 'passwd': '222', 'db': 'MigratoryBirdSys'}), ('dev', {'host': '10.3.30.114', 'port': 3340, 'user': 'root', 'passwd': '2', 'db': 'MigratoryBirdSys'})])"
      ]
     },
     "execution_count": 25,
     "metadata": {},
     "output_type": "execute_result"
    }
   ],
   "source": [
    "MIG_DB_DICT.items()"
   ]
  },
  {
   "cell_type": "code",
   "execution_count": 26,
   "metadata": {},
   "outputs": [
    {
     "name": "stdout",
     "output_type": "stream",
     "text": [
      "region is: gzopen\n",
      "jdbc:mysql://10.249.3.199:14954/MigratorEvaluate?useUnicode=true&characterEncoding=UTF-8&zeroDateTimeBehavior=convertToNull\n",
      "region is: dev\n",
      "jdbc:mysql://10.3.30.114:3340/MigratorEvaluate?useUnicode=true&characterEncoding=UTF-8&zeroDateTimeBehavior=convertToNull\n"
     ]
    }
   ],
   "source": [
    "for region,cf in MIG_DB_DICT.items():\n",
    "    print(\"region is: \"+region )\n",
    "    print(\"jdbc:mysql://\"+ cf['host']+ \":\"+str(cf['port'])+\"/MigratorEvaluate?useUnicode=true&characterEncoding=UTF-8&zeroDateTimeBehavior=convertToNull\" )"
   ]
  },
  {
   "cell_type": "code",
   "execution_count": 27,
   "metadata": {},
   "outputs": [],
   "source": [
    "dict=[]"
   ]
  },
  {
   "cell_type": "code",
   "execution_count": 28,
   "metadata": {},
   "outputs": [],
   "source": [
    "dict.append(2)"
   ]
  },
  {
   "cell_type": "code",
   "execution_count": 29,
   "metadata": {},
   "outputs": [
    {
     "data": {
      "text/plain": [
       "[2]"
      ]
     },
     "execution_count": 29,
     "metadata": {},
     "output_type": "execute_result"
    }
   ],
   "source": [
    "dict"
   ]
  },
  {
   "cell_type": "code",
   "execution_count": null,
   "metadata": {},
   "outputs": [],
   "source": []
  },
  {
   "cell_type": "code",
   "execution_count": null,
   "metadata": {},
   "outputs": [],
   "source": []
  }
 ],
 "metadata": {
  "kernelspec": {
   "display_name": "Python 3",
   "language": "python",
   "name": "python3"
  },
  "language_info": {
   "codemirror_mode": {
    "name": "ipython",
    "version": 3
   },
   "file_extension": ".py",
   "mimetype": "text/x-python",
   "name": "python",
   "nbconvert_exporter": "python",
   "pygments_lexer": "ipython3",
   "version": "3.6.3"
  }
 },
 "nbformat": 4,
 "nbformat_minor": 2
}
