{
 "cells": [
  {
   "cell_type": "markdown",
   "metadata": {},
   "source": [
    "##date 日期函数\n",
    "http://www.runoob.com/python/python-date-time.html\n",
    "https://docs.python.org/3/library/datetime.html#module-datetime"
   ]
  },
  {
   "cell_type": "code",
   "execution_count": 16,
   "metadata": {},
   "outputs": [
    {
     "data": {
      "text/plain": [
       "1528886942.6432383"
      ]
     },
     "execution_count": 16,
     "metadata": {},
     "output_type": "execute_result"
    },
    {
     "name": "stdout",
     "output_type": "stream",
     "text": [
      "本地时间为 : time.struct_time(tm_year=2018, tm_mon=6, tm_mday=13, tm_hour=18, tm_min=49, tm_sec=2, tm_wday=2, tm_yday=164, tm_isdst=0)\n"
     ]
    },
    {
     "data": {
      "text/plain": [
       "'2018-06-13 18:49:02'"
      ]
     },
     "execution_count": 16,
     "metadata": {},
     "output_type": "execute_result"
    }
   ],
   "source": [
    "####time  \n",
    "import time\n",
    "\n",
    "time.time() ##秒未单位的浮点 每个时间戳都以自从1970年1月1日午夜（历元）经过了多长时间来表示。\n",
    "\n",
    "localtime = time.localtime(time.time())\n",
    "print (\"本地时间为 :\", localtime)\n",
    "\n",
    "#格式化\n",
    "time.strftime(\"%Y-%m-%d %H:%M:%S\", time.localtime()) "
   ]
  },
  {
   "cell_type": "code",
   "execution_count": 17,
   "metadata": {},
   "outputs": [
    {
     "name": "stdout",
     "output_type": "stream",
     "text": [
      "   February 2018\n",
      "Mo Tu We Th Fr Sa Su\n",
      "          1  2  3  4\n",
      " 5  6  7  8  9 10 11\n",
      "12 13 14 15 16 17 18\n",
      "19 20 21 22 23 24 25\n",
      "26 27 28\n",
      "\n"
     ]
    }
   ],
   "source": [
    "#calendar模块\n",
    "import calendar\n",
    "\n",
    "cal = calendar.month(2018, 2)\n",
    "print(cal)\n"
   ]
  },
  {
   "cell_type": "code",
   "execution_count": 18,
   "metadata": {},
   "outputs": [
    {
     "data": {
      "text/plain": [
       "<function str.center>"
      ]
     },
     "execution_count": 18,
     "metadata": {},
     "output_type": "execute_result"
    }
   ],
   "source": [
    "cal.center"
   ]
  },
  {
   "cell_type": "code",
   "execution_count": 19,
   "metadata": {},
   "outputs": [
    {
     "data": {
      "text/plain": [
       "'2018-06-13 18:49:04'"
      ]
     },
     "execution_count": 19,
     "metadata": {},
     "output_type": "execute_result"
    },
    {
     "data": {
      "text/plain": [
       "2018"
      ]
     },
     "execution_count": 19,
     "metadata": {},
     "output_type": "execute_result"
    },
    {
     "data": {
      "text/plain": [
       "13"
      ]
     },
     "execution_count": 19,
     "metadata": {},
     "output_type": "execute_result"
    }
   ],
   "source": [
    "import datetime\n",
    "from IPython.core.interactiveshell import InteractiveShell\n",
    "InteractiveShell.ast_node_interactivity = \"all\"\n",
    "\n",
    "#日期到string\n",
    "now = datetime.datetime.now()\n",
    "now.strftime('%Y-%m-%d %H:%M:%S')\n",
    "#获取到字段\n",
    "now.year\n",
    "now.day"
   ]
  },
  {
   "cell_type": "code",
   "execution_count": 20,
   "metadata": {},
   "outputs": [
    {
     "data": {
      "text/plain": [
       "datetime.datetime(2012, 3, 5, 16, 26, 23)"
      ]
     },
     "execution_count": 20,
     "metadata": {},
     "output_type": "execute_result"
    }
   ],
   "source": [
    "#string到日期\n",
    "t_str = '2012-03-05 16:26:23'\n",
    "d = datetime.datetime.strptime(t_str, '%Y-%m-%d %H:%M:%S')\n",
    "\n",
    "d"
   ]
  },
  {
   "cell_type": "code",
   "execution_count": 21,
   "metadata": {},
   "outputs": [
    {
     "data": {
      "text/plain": [
       "365"
      ]
     },
     "execution_count": 21,
     "metadata": {},
     "output_type": "execute_result"
    },
    {
     "data": {
      "text/plain": [
       "datetime.timedelta(-999999999)"
      ]
     },
     "execution_count": 21,
     "metadata": {},
     "output_type": "execute_result"
    }
   ],
   "source": [
    "##timedelta 间隔\n",
    "#可以通过timedelta.days、tiemdelta.seconds等获取相应的时间值。\n",
    "#timedelta类的实例，支持加、减、乘、除等操作，所得的结果也是timedelta类的实例。比如：\n",
    "\n",
    "year = datetime.timedelta(days=365)\n",
    "year.days\n",
    "year.min"
   ]
  },
  {
   "cell_type": "code",
   "execution_count": 22,
   "metadata": {},
   "outputs": [
    {
     "data": {
      "text/plain": [
       "3"
      ]
     },
     "execution_count": 22,
     "metadata": {},
     "output_type": "execute_result"
    }
   ],
   "source": [
    "#1. 两个日期相差多少天。\n",
    "\n",
    "d1 = datetime.datetime.strptime('2012-03-05 17:41:20', '%Y-%m-%d %H:%M:%S')\n",
    "d2 = datetime.datetime.strptime('2012-03-02 17:41:20', '%Y-%m-%d %H:%M:%S')\n",
    "delta = d1 - d2\n",
    "delta.days"
   ]
  },
  {
   "cell_type": "code",
   "execution_count": 23,
   "metadata": {},
   "outputs": [
    {
     "data": {
      "text/plain": [
       "'2018-06-16 18:49:05'"
      ]
     },
     "execution_count": 23,
     "metadata": {},
     "output_type": "execute_result"
    }
   ],
   "source": [
    "#2. 今天的n天后的日期。\n",
    "\n",
    "now = datetime.datetime.now()\n",
    "delta = datetime.timedelta(days=3)\n",
    "n_days = now + delta\n",
    "n_days.strftime('%Y-%m-%d %H:%M:%S')"
   ]
  },
  {
   "cell_type": "code",
   "execution_count": 24,
   "metadata": {},
   "outputs": [
    {
     "data": {
      "text/plain": [
       "['2018-02-01',\n",
       " '2018-02-02',\n",
       " '2018-02-03',\n",
       " '2018-02-04',\n",
       " '2018-02-05',\n",
       " '2018-02-06',\n",
       " '2018-02-07',\n",
       " '2018-02-08',\n",
       " '2018-02-09',\n",
       " '2018-02-10',\n",
       " '2018-02-11',\n",
       " '2018-02-12',\n",
       " '2018-02-13',\n",
       " '2018-02-14',\n",
       " '2018-02-15',\n",
       " '2018-02-16',\n",
       " '2018-02-17',\n",
       " '2018-02-18',\n",
       " '2018-02-19',\n",
       " '2018-02-20',\n",
       " '2018-02-21',\n",
       " '2018-02-22',\n",
       " '2018-02-23',\n",
       " '2018-02-24']"
      ]
     },
     "execution_count": 24,
     "metadata": {},
     "output_type": "execute_result"
    }
   ],
   "source": [
    "###日期范围遍历\n",
    "\n",
    "###接受两个date类型参数, 含begin，end两天\n",
    "def rangeDate(begin,end):\n",
    "    list = []\n",
    "    d=begin\n",
    "    delta = datetime.timedelta(days=1)\n",
    "    while d<=end:\n",
    "        list.append(d.strftime(\"%Y-%m-%d\"))\n",
    "        d += delta\n",
    "    return list    \n",
    "\n",
    "\n",
    "begin = datetime.date(2018,2,1)\n",
    "end = datetime.date(2018,2,24)\n",
    "rangeDate(begin,end)"
   ]
  },
  {
   "cell_type": "code",
   "execution_count": 30,
   "metadata": {},
   "outputs": [
    {
     "name": "stdout",
     "output_type": "stream",
     "text": [
      "today = 2018-06-13 01:00:00\n"
     ]
    },
    {
     "data": {
      "text/plain": [
       "1528822800"
      ]
     },
     "execution_count": 30,
     "metadata": {},
     "output_type": "execute_result"
    }
   ],
   "source": [
    "today = time.strftime(\"%Y-%m-%d 01:00:00\", time.localtime(time.time()))\n",
    "print('today = %s'%today)\n",
    "int(time.mktime(time.strptime(today, \"%Y-%m-%d %H:%M:%S\")))"
   ]
  },
  {
   "cell_type": "code",
   "execution_count": 29,
   "metadata": {},
   "outputs": [
    {
     "data": {
      "text/plain": [
       "1528887219.2515423"
      ]
     },
     "execution_count": 29,
     "metadata": {},
     "output_type": "execute_result"
    }
   ],
   "source": [
    "time.time()"
   ]
  },
  {
   "cell_type": "code",
   "execution_count": null,
   "metadata": {},
   "outputs": [],
   "source": []
  }
 ],
 "metadata": {
  "kernelspec": {
   "display_name": "Python 3",
   "language": "python",
   "name": "python3"
  },
  "language_info": {
   "codemirror_mode": {
    "name": "ipython",
    "version": 3
   },
   "file_extension": ".py",
   "mimetype": "text/x-python",
   "name": "python",
   "nbconvert_exporter": "python",
   "pygments_lexer": "ipython3",
   "version": "3.6.3"
  }
 },
 "nbformat": 4,
 "nbformat_minor": 2
}
