{
 "cells": [
  {
   "cell_type": "code",
   "execution_count": 2,
   "metadata": {},
   "outputs": [],
   "source": [
    "from IPython.core.interactiveshell import InteractiveShell\n",
    "InteractiveShell.ast_node_interactivity = \"all\""
   ]
  },
  {
   "cell_type": "code",
   "execution_count": 7,
   "metadata": {},
   "outputs": [
    {
     "data": {
      "text/plain": [
       "['Michael', 'Sarah', 'Tracy']"
      ]
     },
     "execution_count": 7,
     "metadata": {},
     "output_type": "execute_result"
    },
    {
     "data": {
      "text/plain": [
       "['Michael', 'Sarah', 'Tracy']"
      ]
     },
     "execution_count": 7,
     "metadata": {},
     "output_type": "execute_result"
    },
    {
     "data": {
      "text/plain": [
       "['Michael', 'Sarah', 'Tracy']"
      ]
     },
     "execution_count": 7,
     "metadata": {},
     "output_type": "execute_result"
    },
    {
     "data": {
      "text/plain": [
       "['Sarah', 'Tracy']"
      ]
     },
     "execution_count": 7,
     "metadata": {},
     "output_type": "execute_result"
    },
    {
     "data": {
      "text/plain": [
       "['Bob', 'Jack']"
      ]
     },
     "execution_count": 7,
     "metadata": {},
     "output_type": "execute_result"
    },
    {
     "data": {
      "text/plain": [
       "['Tracy', 'Bob', 'Jack']"
      ]
     },
     "execution_count": 7,
     "metadata": {},
     "output_type": "execute_result"
    }
   ],
   "source": [
    "#切片 数组下标访问\n",
    "\n",
    "L = ['Michael', 'Sarah', 'Tracy', 'Bob', 'Jack']\n",
    "L[0:3] #取前3个，不含3索引的\n",
    "L[:3]   # :前面不写，就是从头开始\n",
    "L[:-2]  #不含最后2个\n",
    "\n",
    "L[1:3]# 取 1,2两个位置\n",
    "L[-2:] #取最后两个\n",
    "L[2:]     # : 后面不谢写\n",
    "\n"
   ]
  },
  {
   "cell_type": "code",
   "execution_count": 1,
   "metadata": {},
   "outputs": [
    {
     "name": "stdout",
     "output_type": "stream",
     "text": [
      "a\n",
      "b\n",
      "c\n"
     ]
    }
   ],
   "source": [
    "#迭代\n",
    "d = {'a': 1, 'b': 2, 'c': 3}\n",
    "for key in d:\n",
    "   print(key)\n",
    "\n",
    "\n",
    "##默认情况下，dict迭代的是key。如果要迭代value，可以用for value in d.values()，\n",
    "#如果要同时迭代key和value，可以用for k, v in d.items()。\n",
    "\n",
    "\n",
    "##同时引用多个变量\n",
    "for x, y in [(1, 1), (2, 4), (3, 9)]:\n",
    "   print(x, y)"
   ]
  },
  {
   "cell_type": "code",
   "execution_count": 3,
   "metadata": {},
   "outputs": [
    {
     "data": {
      "text/plain": [
       "['readme.txt',\n",
       " 'python3.ipynb',\n",
       " 'migrated',\n",
       " 'jupyter_notebook_config.py',\n",
       " '.ipynb_checkpoints',\n",
       " 'nohup.out',\n",
       " 'py3advanced.ipynb']"
      ]
     },
     "execution_count": 3,
     "metadata": {},
     "output_type": "execute_result"
    }
   ],
   "source": [
    "#列表生成式\n",
    "[x * x for x in range(1, 11)]\n",
    "\n",
    "[x * x for x in range(1, 11) if x % 2 == 0]\n",
    "import os\n",
    "#列出当前目录下的所有文件和目录名，可以通过一行代码实现：\n",
    "[d for d in os.listdir('.')]"
   ]
  },
  {
   "cell_type": "code",
   "execution_count": null,
   "metadata": {},
   "outputs": [],
   "source": [
    "###生成器 如果列表元素可以按照某种算法推算出来，那我们是否可以在循环的过程中不断推算出后续的元素呢？这样就不必创建完整的list，从而节省大量的空间。在Python中，这种一边循环一边计算的机制，称为生成器：generator。\n",
    "#要创建一个generator，有很多种方法。第一种方法很简单，只要把一个列表生成式的[]改成()，就创建了一个generator：\n",
    "\n",
    "L = [x * x for x in range(10)]\n",
    "g = (x * x for x in range(10))\n"
   ]
  },
  {
   "cell_type": "code",
   "execution_count": null,
   "metadata": {},
   "outputs": [],
   "source": [
    "#凡是可作用于for循环的对象都是Iterable类型；\n",
    "#凡是可作用于next()函数的对象都是Iterator类型，它们表示一个惰性计算的序列；"
   ]
  },
  {
   "cell_type": "code",
   "execution_count": 11,
   "metadata": {},
   "outputs": [
    {
     "data": {
      "text/plain": [
       "223"
      ]
     },
     "execution_count": 11,
     "metadata": {},
     "output_type": "execute_result"
    }
   ],
   "source": [
    "#高阶函数 \n",
    "#map()函数接收两个参数，一个是函数，一个是Iterable，map将传入的函数依次作用到序列的每个元素，并把结果作为新的Iterator返回\n",
    "def f(x):\n",
    "    return x * x\n",
    "r = map(f, [1, 2, 3, 4, 5, 6, 7, 8, 9])\n",
    "list(r)\n",
    "\n",
    "#reduce把一个函数作用在一个序列[x1, x2, x3, ...]上，这个函数必须接收两个参数，reduce把结果继续和序列的下一个元素做累积计算，其效果就是：\n",
    "from functools import reduce\n",
    "def char2num(s):\n",
    "    return {'0': 0, '1': 1, '2': 2, '3': 3, '4': 4, '5': 5, '6': 6, '7': 7, '8': 8, '9': 9}[s]\n",
    "def str2int(s):\n",
    "    return reduce(lambda x, y: x * 10 + y, map(char2num, s))\n",
    "\n",
    "\n",
    "str2int(\"223\")\n",
    "\n",
    "#Python内建的filter()函数用于过滤序列。根据返回值是True还是False决定保留还是丢弃该元素。\n",
    "def not_empty(s):\n",
    "    return s and s.strip()\n",
    "\n",
    "list(filter(not_empty, ['A', '', 'B', None, 'C', '  ']))\n",
    "\n",
    "\n",
    "#sorted()函数就可以对list进行排序：\n",
    "#默认情况下，对字符串排序，是按照ASCII的大小比较的，由于'Z' < 'a'，结果，大写字母Z会排在小写字母a的前面。\n",
    "#  要进行反向排序，不必改动key函数，可以传入第三个参数reverse=True\n",
    "\n",
    "sorted([36, 5, -12, 9, -21])\n",
    "sorted([36, 5, -12, 9, -21], key=abs)"
   ]
  },
  {
   "cell_type": "code",
   "execution_count": null,
   "metadata": {},
   "outputs": [],
   "source": [
    "#函数作为返回值  不返回求和的结果，而是返回求和的函数\n",
    "def lazy_sum(*args):\n",
    "    def sum():\n",
    "        ax = 0\n",
    "        for n in args:\n",
    "            ax = ax + n\n",
    "        return ax\n",
    "    return sum\n",
    "\n",
    "#闭包  返回闭包时牢记一点：返回函数不要引用任何循环变量，或者后续会发生变化的变量。\n",
    "\n",
    "#匿名函数  lambda\n",
    " list(map(lambda x: x * x, [1, 2, 3, 4, 5, 6, 7, 8, 9]))"
   ]
  },
  {
   "cell_type": "code",
   "execution_count": null,
   "metadata": {},
   "outputs": [],
   "source": [
    "#装饰器 @ 通过变量也能调用该函数。\n",
    "##定义一个打印日志的decorator\n",
    "def log(func):\n",
    "    def wrapper(*args, **kw):\n",
    "        print('call %s():' % func.__name__)\n",
    "        return func(*args, **kw)\n",
    "    return wrapper\n",
    "\n",
    "#使用  调用now()函数，不仅会运行now()函数本身，还会在运行now()函数前打印一行日志：\n",
    "\n",
    "@log   #相当于执行 now = log(now)\n",
    "def now():\n",
    "    print('2015-3-25')"
   ]
  },
  {
   "cell_type": "code",
   "execution_count": null,
   "metadata": {},
   "outputs": [],
   "source": [
    "#作用域\n",
    "#正常的函数和变量名是公开的（public），可以被直接引用，比如：abc，x123，PI等；\n",
    "#类似__xxx__这样的变量是特殊变量，可以被直接引用，但是有特殊用途\n",
    "#类似_xxx和__xxx这样的函数或变量就是非公开的（private），不应该被直接引用，比如_abc，__abc等；\n"
   ]
  },
  {
   "cell_type": "code",
   "execution_count": null,
   "metadata": {},
   "outputs": [],
   "source": [
    "#模块\n",
    "#在Python中，一个.py文件就称之为一个模块（Module）。\n",
    "#包：通过同名的目录来定义\n",
    "#mycompany\n",
    "#├─ __init__.py\n",
    "#├─ abc.py\n",
    "#└─ xyz.py\n",
    "#现在，abc.py模块的名字就变成了mycompany.abc\n",
    "#每一个包目录下面都会有一个__init__.py的文件，这个文件是必须存在的，否则，Python就把这个目录当成普通目录，而不是一个包。\n",
    "#__init__.py可以是空文件，也可以有Python代码，因为__init__.py本身就是一个模块，而它的模块名就是mycompany。"
   ]
  },
  {
   "cell_type": "code",
   "execution_count": null,
   "metadata": {},
   "outputs": [],
   "source": [
    "#main 我们在命令行运行hello模块文件时，Python解释器把一个特殊变量__name__置为__main__，而如果在其他地方导入该hello模块时，if判断将失败\n",
    "if __name__=='__main__':\n",
    "    test()"
   ]
  }
 ],
 "metadata": {
  "kernelspec": {
   "display_name": "Python 3",
   "language": "python",
   "name": "python3"
  },
  "language_info": {
   "codemirror_mode": {
    "name": "ipython",
    "version": 3
   },
   "file_extension": ".py",
   "mimetype": "text/x-python",
   "name": "python",
   "nbconvert_exporter": "python",
   "pygments_lexer": "ipython3",
   "version": "3.6.3"
  }
 },
 "nbformat": 4,
 "nbformat_minor": 2
}
