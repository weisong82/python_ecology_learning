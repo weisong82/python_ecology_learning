{
 "cells": [
  {
   "cell_type": "code",
   "execution_count": 1,
   "metadata": {},
   "outputs": [],
   "source": [
    "#json prossess"
   ]
  },
  {
   "cell_type": "markdown",
   "metadata": {},
   "source": [
    "# class转json比较麻烦， 一层的可以用dict方法拼凑"
   ]
  },
  {
   "cell_type": "code",
   "execution_count": 24,
   "metadata": {},
   "outputs": [],
   "source": [
    "import json\n",
    "\n",
    "class People:\n",
    "    def __init__(self,name):\n",
    "        self.name = name\n",
    "        self.sex = 'M'\n",
    "        \n",
    "p = People(\"san\")\n",
    "p2 = People('si')\n",
    "obj = [p,p2]        "
   ]
  },
  {
   "cell_type": "code",
   "execution_count": 25,
   "metadata": {},
   "outputs": [
    {
     "data": {
      "text/plain": [
       "'{\"name\": \"san\", \"sex\": \"M\"}'"
      ]
     },
     "execution_count": 25,
     "metadata": {},
     "output_type": "execute_result"
    }
   ],
   "source": [
    "# TypeError: Object of type 'People' is not JSON serializable\n",
    "#json.dumps(People())\n",
    "\n",
    "\n",
    "\n",
    "json.dumps(p.__dict__)"
   ]
  },
  {
   "cell_type": "markdown",
   "metadata": {},
   "source": [
    "# 定义函数处理常规的list嵌套"
   ]
  },
  {
   "cell_type": "code",
   "execution_count": 26,
   "metadata": {},
   "outputs": [
    {
     "data": {
      "text/plain": [
       "'[{\"name\": \"san\", \"sex\": \"M\"}, {\"name\": \"si\", \"sex\": \"M\"}]'"
      ]
     },
     "execution_count": 26,
     "metadata": {},
     "output_type": "execute_result"
    }
   ],
   "source": [
    "\n",
    "def obj2dict(obj):\n",
    "      # 基本数据类型，直接返回\n",
    "    if not hasattr(obj,'__dict__'):\n",
    "        return obj\n",
    "    res = {}\n",
    "    for k,v in obj.__dict__.items():\n",
    "        if k.startswith('-'):\n",
    "            continue\n",
    "        if isinstance(v,list):\n",
    "            ele = [obj2dict(item) for item in v]\n",
    "        else:\n",
    "            ele = obj2dict(v)\n",
    "        res[k] = ele\n",
    "    return res\n",
    "\n",
    "json.dumps(obj, default=obj2dict)\n",
    "\n"
   ]
  },
  {
   "cell_type": "markdown",
   "metadata": {},
   "source": [
    "# 使用第三方库jsonpickle:"
   ]
  },
  {
   "cell_type": "code",
   "execution_count": 27,
   "metadata": {},
   "outputs": [
    {
     "name": "stdout",
     "output_type": "stream",
     "text": [
      "[{\"py/object\": \"__main__.People\", \"name\": \"san\", \"sex\": \"M\"}, {\"py/object\": \"__main__.People\", \"name\": \"si\", \"sex\": \"M\"}]\n",
      "san\n"
     ]
    }
   ],
   "source": [
    "import jsonpickle\n",
    "\n",
    "\n",
    "# to json\n",
    "frozen = jsonpickle.encode(obj)\n",
    "print(frozen)\n",
    "\n",
    "#from json\n",
    "thawed = jsonpickle.decode(frozen)\n",
    "print(thawed[0].name)"
   ]
  },
  {
   "cell_type": "code",
   "execution_count": null,
   "metadata": {},
   "outputs": [],
   "source": []
  }
 ],
 "metadata": {
  "kernelspec": {
   "display_name": "Python 3",
   "language": "python",
   "name": "python3"
  },
  "language_info": {
   "codemirror_mode": {
    "name": "ipython",
    "version": 3
   },
   "file_extension": ".py",
   "mimetype": "text/x-python",
   "name": "python",
   "nbconvert_exporter": "python",
   "pygments_lexer": "ipython3",
   "version": "3.6.3"
  }
 },
 "nbformat": 4,
 "nbformat_minor": 2
}
