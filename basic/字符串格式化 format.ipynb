{
 "cells": [
  {
   "cell_type": "markdown",
   "metadata": {},
   "source": [
    "# %操作符可用于格式化字符串操作\n",
    "\"I'm %s. I'm %d year old\" 为我们的模板。\n",
    "%s为第一个格式符，表示一个字符串。%d为第二个格式符，表示一个整数。\n",
    "('Vamei', 99)的两个元素'Vamei'和99为替换%s和%d的真实值。 \n",
    "在模板和tuple之间，有一个%号分隔，它代表了格式化操作。"
   ]
  },
  {
   "cell_type": "markdown",
   "metadata": {},
   "source": [
    "%s    字符串 (采用str()的显示)\n",
    "%r    字符串 (采用repr()的显示)\n",
    "%c    单个字符\n",
    "%b    二进制整数\n",
    "%d    十进制整数\n",
    "%i    十进制整数\n",
    "%o    八进制整数\n",
    "%x    十六进制整数\n",
    "%e    指数 (基底写为e)\n",
    "%E    指数 (基底写为E)\n",
    "%f    浮点数\n",
    "%F    浮点数，与上相同\n",
    "%g    指数(e)\u0010或浮点数 (根据显示长度)\n",
    "%G    指数(E)或浮点数 (根据显示长度)\n",
    " \n",
    "%%    字符\"%\""
   ]
  },
  {
   "cell_type": "code",
   "execution_count": 1,
   "metadata": {},
   "outputs": [
    {
     "name": "stdout",
     "output_type": "stream",
     "text": [
      "I'm Vamei. I'm 99 year old\n"
     ]
    }
   ],
   "source": [
    "#tuple 占位替换\n",
    "print(\"I'm %s. I'm %d year old\" % ('Vamei', 99))\n"
   ]
  },
  {
   "cell_type": "code",
   "execution_count": 2,
   "metadata": {},
   "outputs": [
    {
     "name": "stdout",
     "output_type": "stream",
     "text": [
      "I'm Vamei. I'm 99 year old\n"
     ]
    }
   ],
   "source": [
    "a = \"I'm %s. I'm %d year old\" % ('Vamei', 99)\n",
    "print(a)"
   ]
  },
  {
   "cell_type": "code",
   "execution_count": 3,
   "metadata": {},
   "outputs": [
    {
     "name": "stdout",
     "output_type": "stream",
     "text": [
      "I'm Vamei. I'm 99 year old\n"
     ]
    }
   ],
   "source": [
    "##字典格式的占位\n",
    "print(\"I'm %(name)s. I'm %(age)d year old\" % {'name':'Vamei', 'age':99})\n"
   ]
  },
  {
   "cell_type": "markdown",
   "metadata": {},
   "source": [
    "# 对齐：：\n",
    "可以用如下的方式，对格式进行进一步的控制：\n",
    "\n",
    "%[(name)][flags][width].[precision]typecode\n",
    "\n",
    "(name)为命名\n",
    "\n",
    "flags可以有+,-,' '或0。+表示右对齐。-表示左对齐。' '为一个空格，表示在正数的左侧填充一个空格，从而与负数对齐。0表示使用0填充。\n",
    "\n",
    "width表示显示宽度\n",
    "\n",
    "precision表示小数点后精度"
   ]
  },
  {
   "cell_type": "code",
   "execution_count": 4,
   "metadata": {},
   "outputs": [
    {
     "name": "stdout",
     "output_type": "stream",
     "text": [
      "        +a\n",
      "0005\n",
      " 2.300\n",
      "1.2000\n"
     ]
    }
   ],
   "source": [
    "print(\"%+10x\" % 10)\n",
    "print(\"%04d\" % 5)\n",
    "print(\"%6.3f\" % 2.3)\n",
    "print(\"%.*f\" % (4, 1.2))\n"
   ]
  },
  {
   "cell_type": "markdown",
   "metadata": {},
   "source": [
    "# format \n",
    "python还有一个更强大的字符串处理函数  str.format()\n",
    "它通过{}和:来代替%。\n",
    "“映射”示例"
   ]
  },
  {
   "cell_type": "code",
   "execution_count": 5,
   "metadata": {},
   "outputs": [
    {
     "name": "stdout",
     "output_type": "stream",
     "text": [
      "I'm Vamei. I'm 99 year old\n"
     ]
    }
   ],
   "source": [
    "b = \"I'm {}. I'm {} year old\".format ('Vamei', '99')\n",
    "print(b)"
   ]
  },
  {
   "cell_type": "code",
   "execution_count": 6,
   "metadata": {},
   "outputs": [
    {
     "data": {
      "text/plain": [
       "'18,kzc,18'"
      ]
     },
     "execution_count": 6,
     "metadata": {},
     "output_type": "execute_result"
    }
   ],
   "source": [
    "'{1},{0},{1}'.format('kzc',18)   # 索引选择  ###py2.6一定要指定索引，不能像上面空白，报错"
   ]
  },
  {
   "cell_type": "code",
   "execution_count": 7,
   "metadata": {},
   "outputs": [
    {
     "data": {
      "text/plain": [
       "'kzc,18'"
      ]
     },
     "execution_count": 7,
     "metadata": {},
     "output_type": "execute_result"
    }
   ],
   "source": [
    "'{name},{age}'.format(age=18,name='kzc') #关键字"
   ]
  },
  {
   "cell_type": "markdown",
   "metadata": {},
   "source": [
    "# 三引号格式化"
   ]
  },
  {
   "cell_type": "code",
   "execution_count": 8,
   "metadata": {},
   "outputs": [
    {
     "name": "stdout",
     "output_type": "stream",
     "text": [
      "select  '201809's c_date, user_id ,count(1)\n"
     ]
    }
   ],
   "source": [
    "sql = \"\"\"select  %(dateFrom) as c_date, user_id ,count(1)\"\"\" %{\"dateFrom\":'201809'}\n",
    "print(sql)    "
   ]
  },
  {
   "cell_type": "code",
   "execution_count": 10,
   "metadata": {},
   "outputs": [
    {
     "name": "stdout",
     "output_type": "stream",
     "text": [
      "select  201809 as c_date, user_id ,count(1)\n"
     ]
    }
   ],
   "source": [
    "sql2=\"\"\"select  %s as c_date, user_id ,count(1)\"\"\" %('201809')\n",
    "print(sql2)"
   ]
  },
  {
   "cell_type": "markdown",
   "metadata": {},
   "source": [
    "# ##对齐"
   ]
  },
  {
   "cell_type": "code",
   "execution_count": 1,
   "metadata": {},
   "outputs": [
    {
     "data": {
      "text/plain": [
       "'****10****'"
      ]
     },
     "execution_count": 1,
     "metadata": {},
     "output_type": "execute_result"
    }
   ],
   "source": [
    "'{0:*>10}'.format(10)  ##右对齐\n",
    "'{0:*<10}'.format(10)  ##左对齐\n",
    "'{0:*^10}'.format(10)  ##居中对齐"
   ]
  },
  {
   "cell_type": "code",
   "execution_count": 4,
   "metadata": {},
   "outputs": [
    {
     "data": {
      "text/plain": [
       "'201809'"
      ]
     },
     "execution_count": 4,
     "metadata": {},
     "output_type": "execute_result"
    }
   ],
   "source": [
    "year=2018\n",
    "month=9\n",
    "ym_str = (str(year)+ '{0:0>2}'.format(month))\n",
    "ym_str"
   ]
  },
  {
   "cell_type": "code",
   "execution_count": 8,
   "metadata": {},
   "outputs": [],
   "source": [
    "#取整循环打印\n",
    "a=220\n",
    "if a%100 == 0:\n",
    "    print(a)"
   ]
  },
  {
   "cell_type": "code",
   "execution_count": null,
   "metadata": {},
   "outputs": [],
   "source": []
  }
 ],
 "metadata": {
  "kernelspec": {
   "display_name": "Python 3",
   "language": "python",
   "name": "python3"
  },
  "language_info": {
   "codemirror_mode": {
    "name": "ipython",
    "version": 3
   },
   "file_extension": ".py",
   "mimetype": "text/x-python",
   "name": "python",
   "nbconvert_exporter": "python",
   "pygments_lexer": "ipython3",
   "version": "3.6.3"
  }
 },
 "nbformat": 4,
 "nbformat_minor": 2
}
