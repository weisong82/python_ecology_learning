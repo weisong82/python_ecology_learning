{
 "cells": [
  {
   "cell_type": "code",
   "execution_count": 2,
   "metadata": {},
   "outputs": [],
   "source": [
    "from IPython.core.interactiveshell import InteractiveShell\n",
    "InteractiveShell.ast_node_interactivity = \"all\""
   ]
  },
  {
   "cell_type": "code",
   "execution_count": 3,
   "metadata": {},
   "outputs": [],
   "source": [
    "# 身高：单位cm\n",
    "height_list = [ 160, 183, 175, 155, 140, 167, 195, 159, ]\n",
    "name_list = [ 'peter', 'bob', 'tom', 'su', 'ben', 'james', 'king', 'alice', ]\n",
    "height_map = { 'peter': 160, 'bob': 183,  }\n",
    "students = [ {'name': 'peter', 'height': 160 }, {'name': 'bob', 'height': 183 }, ]"
   ]
  },
  {
   "cell_type": "code",
   "execution_count": 7,
   "metadata": {},
   "outputs": [
    {
     "data": {
      "text/plain": [
       "[1.6, 1.83, 1.75, 1.55, 1.4, 1.67, 1.95, 1.59]"
      ]
     },
     "execution_count": 7,
     "metadata": {},
     "output_type": "execute_result"
    },
    {
     "data": {
      "text/plain": [
       "[160, 183, 175, 167, 195]"
      ]
     },
     "execution_count": 7,
     "metadata": {},
     "output_type": "execute_result"
    },
    {
     "data": {
      "text/plain": [
       "<function __main__.<lambda>>"
      ]
     },
     "execution_count": 7,
     "metadata": {},
     "output_type": "execute_result"
    },
    {
     "data": {
      "text/plain": [
       "[{'height': 160, 'name': 'peter'}, {'height': 183, 'name': 'bob'}]"
      ]
     },
     "execution_count": 7,
     "metadata": {},
     "output_type": "execute_result"
    },
    {
     "data": {
      "text/plain": [
       "{'bob': 183, 'peter': 160}"
      ]
     },
     "execution_count": 7,
     "metadata": {},
     "output_type": "execute_result"
    }
   ],
   "source": [
    "#列表生成简化\n",
    "\n",
    "[ float(h)/100 for h in height_list ]     # 转换为单位为米的身高\n",
    "[ h for h in height_list if h >= 160 ]    # 带过滤的列表生成，可以代替 filter 函数\n",
    "\n",
    "# 从字典生成列表\n",
    "to_student = lambda n, h: {'name': n, 'height': h}\n",
    "to_student\n",
    "students = [ to_student(name, height) for name, height in height_map.items() ] \n",
    "students\n",
    "# 生成字典，利用列表生成式生成二元tuple列表即可\n",
    "height_map = dict([ (student['name'], student['height']) for student in students ])\n",
    "height_map"
   ]
  },
  {
   "cell_type": "code",
   "execution_count": 18,
   "metadata": {},
   "outputs": [
    {
     "name": "stdout",
     "output_type": "stream",
     "text": [
      "160\n",
      "183\n",
      "175\n",
      "155\n",
      "140\n",
      "167\n",
      "195\n",
      "159\n",
      "#####\n",
      "0 160\n",
      "1 183\n",
      "2 175\n",
      "3 155\n",
      "4 140\n",
      "5 167\n",
      "6 195\n",
      "7 159\n",
      "#####\n",
      "peter 160\n",
      "bob 183\n",
      "tom 175\n",
      "su 155\n",
      "ben 140\n",
      "james 167\n",
      "king 195\n",
      "alice 159\n",
      "#####\n",
      "peter\n",
      "bob\n",
      "#####\n",
      "183\n",
      "160\n",
      "#####\n",
      "peter 160\n",
      "bob 183\n"
     ]
    }
   ],
   "source": [
    "##各种遍历遍历\n",
    "for h in height_list : \n",
    "    print(h)                  # 遍历数组\n",
    "print(\"#####\")                  \n",
    "for i, h in enumerate(height_list ): \n",
    "    print(i, h)   # 带下标遍历数组\n",
    "print(\"#####\")                  \n",
    "for name, height in zip(name_list, height_list): \n",
    "    print(name, height ) # 同时遍历两个数组\n",
    "print(\"#####\")                  \n",
    "for name in height_map:  \n",
    "    print(name)                # 遍历字典key\n",
    "print(\"#####\")                  \n",
    "for name in sorted(height_map): \n",
    "    print(height_map[name])           # 有序遍历字典\n",
    "print(\"#####\")                  \n",
    "for name, height in height_map.items():  \n",
    "    print(name, height)  # 同时遍历字典key, value\n"
   ]
  },
  {
   "cell_type": "markdown",
   "metadata": {},
   "source": [
    "## 3. 采用 if not 方式判断空、0、假等非法情况\n",
    "\n",
    "因为python是弱类型言语，一个表达式的类型有可能是多种的，如果严格按照类型去判断断空、0、假会有点麻烦，\n",
    "采用if not 方式可以统一写法，省去对类型的思考。"
   ]
  },
  {
   "cell_type": "code",
   "execution_count": 21,
   "metadata": {},
   "outputs": [
    {
     "name": "stdout",
     "output_type": "stream",
     "text": [
      "invalid X: None\n"
     ]
    }
   ],
   "source": [
    "#if not 对None, 0, 空字符串, False, 空列表，空字典等返回真。\n",
    "X = None\n",
    "if not X: \n",
    "    print('invalid X:', X) # 判断X是否合法"
   ]
  },
  {
   "cell_type": "code",
   "execution_count": 24,
   "metadata": {},
   "outputs": [
    {
     "name": "stdout",
     "output_type": "stream",
     "text": [
      "yes2\n"
     ]
    }
   ],
   "source": [
    "if 170 in height_list: print('yes1')    # 通过 in 关键词，可直接判断元素是否在数组中\n",
    "if 'peter' in height_map: print('yes2') # 判断元素是否存在于字典中，取代 dict.has_key 方法 "
   ]
  },
  {
   "cell_type": "code",
   "execution_count": 27,
   "metadata": {},
   "outputs": [
    {
     "ename": "FileNotFoundError",
     "evalue": "[Errno 2] No such file or directory: 'data.txt'",
     "output_type": "error",
     "traceback": [
      "\u001b[0;31m---------------------------------------------------------------------------\u001b[0m",
      "\u001b[0;31mFileNotFoundError\u001b[0m                         Traceback (most recent call last)",
      "\u001b[0;32m<ipython-input-27-9016d9028f7f>\u001b[0m in \u001b[0;36m<module>\u001b[0;34m()\u001b[0m\n\u001b[1;32m      1\u001b[0m \u001b[0;31m#5.文件读写\u001b[0m\u001b[0;34m\u001b[0m\u001b[0;34m\u001b[0m\u001b[0m\n\u001b[1;32m      2\u001b[0m \u001b[0;31m#采用 with ... as 语句打开文件并获得句柄，采用for遍历文件中的每一行。\u001b[0m\u001b[0;34m\u001b[0m\u001b[0;34m\u001b[0m\u001b[0m\n\u001b[0;32m----> 3\u001b[0;31m \u001b[0;32mwith\u001b[0m \u001b[0mopen\u001b[0m\u001b[0;34m(\u001b[0m\u001b[0;34m'data.txt'\u001b[0m\u001b[0;34m,\u001b[0m \u001b[0;34m'r'\u001b[0m\u001b[0;34m)\u001b[0m \u001b[0;32mas\u001b[0m \u001b[0mfh\u001b[0m\u001b[0;34m:\u001b[0m    \u001b[0;31m# 读取完文件后句柄自动关闭文件，无需手动关闭\u001b[0m\u001b[0;34m\u001b[0m\u001b[0m\n\u001b[0m\u001b[1;32m      4\u001b[0m     \u001b[0;32mfor\u001b[0m \u001b[0mline\u001b[0m \u001b[0;32min\u001b[0m \u001b[0mfh\u001b[0m\u001b[0;34m:\u001b[0m    \u001b[0;31m# 文件句柄可迭代，不必 fh.readlines()\u001b[0m\u001b[0;34m\u001b[0m\u001b[0m\n\u001b[1;32m      5\u001b[0m         \u001b[0mline\u001b[0m \u001b[0;34m=\u001b[0m \u001b[0mline\u001b[0m\u001b[0;34m.\u001b[0m\u001b[0mrstrip\u001b[0m\u001b[0;34m(\u001b[0m\u001b[0;34m'\\r\\n'\u001b[0m\u001b[0;34m)\u001b[0m\u001b[0;31m# 去除文件结尾的回车换行符\u001b[0m\u001b[0;34m\u001b[0m\u001b[0m\n",
      "\u001b[0;31mFileNotFoundError\u001b[0m: [Errno 2] No such file or directory: 'data.txt'"
     ]
    }
   ],
   "source": [
    "#5.文件读写\n",
    "#采用 with ... as 语句打开文件并获得句柄，采用for遍历文件中的每一行。\n",
    "with open('data.txt', 'r') as fh:    # 读取完文件后句柄自动关闭文件，无需手动关闭\n",
    "    for line in fh:    # 文件句柄可迭代，不必 fh.readlines()\n",
    "        line = line.rstrip('\\r\\n')# 去除文件结尾的回车换行符\n",
    "        if not line:   # 采用if not 判断空行，跳过处理\n",
    "            continue\n",
    "        items = line.split('\\t')\n",
    "        if len(items) != 2:   # 异常分支优先处理并跳过，避免增加主流程的缩进深度\n",
    "            continue\n",
    "        name, height = items\n",
    "        print('name:%s, height:%s'%(name, height))"
   ]
  },
  {
   "cell_type": "code",
   "execution_count": 34,
   "metadata": {},
   "outputs": [
    {
     "data": {
      "text/plain": [
       "'select name,height form students  where heignt in (160,183,175,155,140,167,195,159)'"
      ]
     },
     "execution_count": 34,
     "metadata": {},
     "output_type": "execute_result"
    },
    {
     "data": {
      "text/plain": [
       "'peter => 160|||bob => 183'"
      ]
     },
     "execution_count": 34,
     "metadata": {},
     "output_type": "execute_result"
    }
   ],
   "source": [
    "#6.使用join与列表生成式结合，把列表或字典转成字符串\n",
    "\n",
    "\n",
    "sql =  'select name,height form students ' \\\n",
    "    +  ' where heignt in (' + ','.join([  str(h) for h in height_list ]) + ')'\n",
    "sql\n",
    "\n",
    "'|||'.join([ \"%s => %d\"%(k, v) for k, v in height_map.items() ])\n",
    "\n"
   ]
  },
  {
   "cell_type": "code",
   "execution_count": 36,
   "metadata": {},
   "outputs": [
    {
     "data": {
      "text/plain": [
       "8"
      ]
     },
     "execution_count": 36,
     "metadata": {},
     "output_type": "execute_result"
    },
    {
     "data": {
      "text/plain": [
       "{1, 3, 5}"
      ]
     },
     "execution_count": 36,
     "metadata": {},
     "output_type": "execute_result"
    }
   ],
   "source": [
    "#7.利用set集合操作求解问题\n",
    "\n",
    "len(set(height_list))    #  求不同的身高数\n",
    "\n",
    "a = [1, 2, 3, 4, 5, 6]\n",
    "b = [1, 3, 5, 7, 9, 11]\n",
    "set(a) & set(b)    # 求两个数组的相同元素，也可以采用： [ x for x in a if x in b ]  "
   ]
  },
  {
   "cell_type": "code",
   "execution_count": 38,
   "metadata": {},
   "outputs": [
    {
     "data": {
      "text/plain": [
       "160"
      ]
     },
     "execution_count": 38,
     "metadata": {},
     "output_type": "execute_result"
    }
   ],
   "source": [
    "# 8.简单的条件赋值可采用三目运算\n",
    "my_height = height_map['peter'] if 'peter' in height_map else 0\n",
    "my_height\n",
    "#  对字典可以采用 dict.get 方法，height_map.get('peter', 0)\n",
    "\n"
   ]
  },
  {
   "cell_type": "code",
   "execution_count": 39,
   "metadata": {},
   "outputs": [
    {
     "data": {
      "text/plain": [
       "2"
      ]
     },
     "execution_count": 39,
     "metadata": {},
     "output_type": "execute_result"
    }
   ],
   "source": [
    "#9. 连续比较\n",
    "len([ h for h in height_list if 160 <= h < 170 ]) # 找出身高在 [160, 170) 范围内的人数"
   ]
  },
  {
   "cell_type": "code",
   "execution_count": 42,
   "metadata": {},
   "outputs": [
    {
     "data": {
      "text/plain": [
       "\"\\n    select name,height\\n    from students\\n    where name='tom'\\n\""
      ]
     },
     "execution_count": 42,
     "metadata": {},
     "output_type": "execute_result"
    },
    {
     "data": {
      "text/plain": [
       "\"select name,height  from students  where name='tom'\""
      ]
     },
     "execution_count": 42,
     "metadata": {},
     "output_type": "execute_result"
    }
   ],
   "source": [
    "#10. 长字符串分行写法\n",
    "#a. 采用 \"\"\" xxx \"\"\" 的分行写法，编辑非常方便，可以包含换行符，但同时也会包含其中出现的所有空格。\n",
    "#因为python是靠缩进来分块的，因此经常会包含不必要的空格。\n",
    "\n",
    "#采用 ( ) 号合并多行字符串，不包含换行符和字符串外的空格。此方法对于输出不换行的字符串时比较有用，如日志。但写起来不如上面的方法方便。\n",
    "\n",
    "sql=\"\"\"\n",
    "    select name,height\n",
    "    from students\n",
    "    where name='%s'\n",
    "\"\"\"%(name_list[2])\n",
    "\n",
    "sql\n",
    "\n",
    "sql3=(\n",
    "    \"select name,height \"\n",
    "    \" from students \"\n",
    "    \" where name='%s'\"\n",
    ")%(name_list[2])\n",
    "\n",
    "sql3"
   ]
  },
  {
   "cell_type": "code",
   "execution_count": null,
   "metadata": {},
   "outputs": [],
   "source": []
  }
 ],
 "metadata": {
  "kernelspec": {
   "display_name": "Python 3",
   "language": "python",
   "name": "python3"
  },
  "language_info": {
   "codemirror_mode": {
    "name": "ipython",
    "version": 3
   },
   "file_extension": ".py",
   "mimetype": "text/x-python",
   "name": "python",
   "nbconvert_exporter": "python",
   "pygments_lexer": "ipython3",
   "version": "3.6.3"
  }
 },
 "nbformat": 4,
 "nbformat_minor": 2
}
