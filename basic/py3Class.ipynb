{
 "cells": [
  {
   "cell_type": "code",
   "execution_count": null,
   "metadata": {},
   "outputs": [],
   "source": [
    "#class后面紧接着是类名，即Student，类名通常是大写开头的单词，紧接着是(object)，表示该类是从哪个类继承下来的\n",
    "\n",
    "class Student(object):\n",
    "\n",
    "    def __init__(self, name, score):\n",
    "        self.name = name\n",
    "        self.score = score\n",
    "\n",
    "    def print_score(self):\n",
    "        print('%s: %s' % (self.name, self.score))\n",
    "        \n",
    "#创建实例是通过类名+()实现的：\n",
    "bart = Student()\n",
    "\n",
    "\n",
    "#构造函数 __init__\n",
    "\n",
    "#如果要让内部属性不被外部访问，可以把属性的名称前加上两个下划线__，\n",
    "#在Python中，实例的变量名如果以__开头，就变成了一个私有变量（private），只有内部可以访问\n",
    "\n",
    "\n",
    "#类属性 静态变量 这个属性虽然归类所有，但类的所有实例都可以访问到\n",
    "class Student(object):\n",
    "    name = 'Student'"
   ]
  },
  {
   "cell_type": "code",
   "execution_count": null,
   "metadata": {},
   "outputs": [],
   "source": [
    "# 使用type() 获取基本类型信息\n",
    "type(123)\n",
    "##判断一个对象是否是函数  可以用types里面的常量\n",
    ">>> import types\n",
    ">>> def fn():\n",
    "...     pass\n",
    "...\n",
    ">>> type(fn)==types.FunctionType\n",
    "True\n",
    ">>> type(abs)==types.BuiltinFunctionType\n",
    "True\n",
    ">>> type(lambda x: x)==types.LambdaType\n",
    "True\n",
    ">>> type((x for x in range(10)))==types.GeneratorType\n",
    "True\n",
    "\n",
    "#isinstance() 函数，处理类\n",
    "a = Animal()\n",
    "h = Husky()\n",
    "isinstance(h, Husky)"
   ]
  },
  {
   "cell_type": "code",
   "execution_count": null,
   "metadata": {},
   "outputs": [],
   "source": [
    "#Python内置的@property装饰器就是负责把一个方法变成属性调用的：\n",
    "class Student(object):\n",
    "\n",
    "    @property\n",
    "    def score(self):\n",
    "        return self._score\n",
    "\n",
    "    @score.setter\n",
    "    def score(self, value):\n",
    "        if not isinstance(value, int):\n",
    "            raise ValueError('score must be an integer!')\n",
    "        if value < 0 or value > 100:\n",
    "            raise ValueError('score must between 0 ~ 100!')\n",
    "        self._score = value"
   ]
  },
  {
   "cell_type": "code",
   "execution_count": null,
   "metadata": {},
   "outputs": [],
   "source": [
    "##Python的错误其实也是class，所有的错误类型都继承自BaseException，\n",
    "try:\n",
    "    print('try...')\n",
    "    r = 10 / 0\n",
    "    print('result:', r)\n",
    "except ZeroDivisionError as e:\n",
    "    print('except:', e)\n",
    "finally:\n",
    "    print('finally...')\n",
    "print('END')\n",
    "\n",
    "##抛出错误 raise\n",
    "#如果要抛出错误，首先根据需要，可以定义一个错误的class，选择好继承关系，然后，用raise语句抛出一个错误的实例：\n",
    "# err_raise.py\n",
    "class FooError(ValueError):\n",
    "    pass\n",
    "\n",
    "def foo(s):\n",
    "    n = int(s)\n",
    "    if n==0:\n",
    "        raise FooError('invalid value: %s' % s)\n",
    "    return 10 / n\n",
    "\n",
    "foo('0')"
   ]
  },
  {
   "cell_type": "code",
   "execution_count": null,
   "metadata": {},
   "outputs": [],
   "source": [
    "import logging\n",
    "logging.basicConfig(level=logging.INFO)\n",
    "\n",
    "#第4种方式是启动Python的调试器pdb，  https://www.liaoxuefeng.com/wiki/0014316089557264a6b348958f449949df42a6d3a2e542c000/001431915578556ad30ab3933ae4e82a03ee2e9a4f70871000"
   ]
  }
 ],
 "metadata": {
  "kernelspec": {
   "display_name": "Python 3",
   "language": "python",
   "name": "python3"
  },
  "language_info": {
   "codemirror_mode": {
    "name": "ipython",
    "version": 3
   },
   "file_extension": ".py",
   "mimetype": "text/x-python",
   "name": "python",
   "nbconvert_exporter": "python",
   "pygments_lexer": "ipython3",
   "version": "3.6.3"
  }
 },
 "nbformat": 4,
 "nbformat_minor": 2
}
