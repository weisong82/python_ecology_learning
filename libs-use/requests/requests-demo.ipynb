{
 "cells": [
  {
   "cell_type": "markdown",
   "metadata": {},
   "source": [
    "http://docs.python-requests.org/en/master/\n"
   ]
  },
  {
   "cell_type": "code",
   "execution_count": 8,
   "metadata": {},
   "outputs": [],
   "source": [
    "import logging\n",
    "from time import clock\n",
    "import redis\n",
    "import requests\n",
    "from IPython.core.interactiveshell import InteractiveShell\n",
    "InteractiveShell.ast_node_interactivity = \"all\""
   ]
  },
  {
   "cell_type": "code",
   "execution_count": 9,
   "metadata": {},
   "outputs": [],
   "source": [
    "r = requests.get('http://119.28.137.45:8888/')"
   ]
  },
  {
   "cell_type": "code",
   "execution_count": 10,
   "metadata": {},
   "outputs": [
    {
     "data": {
      "text/plain": [
       "200"
      ]
     },
     "execution_count": 10,
     "metadata": {},
     "output_type": "execute_result"
    },
    {
     "data": {
      "text/plain": [
       "'text/html; charset=UTF-8'"
      ]
     },
     "execution_count": 10,
     "metadata": {},
     "output_type": "execute_result"
    },
    {
     "data": {
      "text/plain": [
       "'UTF-8'"
      ]
     },
     "execution_count": 10,
     "metadata": {},
     "output_type": "execute_result"
    }
   ],
   "source": [
    "r.status_code\n",
    "r.headers['content-type']\n",
    "r.encoding"
   ]
  },
  {
   "cell_type": "code",
   "execution_count": null,
   "metadata": {},
   "outputs": [],
   "source": [
    "###复杂参数, header\n",
    "\n",
    "domain_load='''[{\"productID\":\"%s\",\"period\":12,\"amount\":1,\"action\":\"activate\"},\n",
    "    {\"productID\":\"%s\",\"period\":24,\"amount\":1,\"action\":\"activate\"}]\n",
    "    ''' %(id,id)\n",
    "\n",
    "\n",
    "    payload = {'callback': 'jQuery111109917434921775314_1536892807565', 'data': domain_load,'_': time.time() }\n",
    "    headers = {'user-agent': 'Mozilla/5.0 (Windows NT 6.1; Win64; x64) AppleWebKit/537.36 (KHTML, like Gecko) Chrome/63.0.3239.84 Safari/537.36',\n",
    "               'referer':'https://wanwang.aliyun.com/help/price.html',\n",
    "               'dnt':'1',\n",
    "               'cookie':'aliyun_choice=CN; cna=whgiFOGePFgCAQ4RFiWJ++g4; ww_csrf=mNeuIX%2BW%2BM9YJWRFSylXTi482qFOnsTYCboXy8vdMUd0BerjRvWlXkODZkoD9fcxEWCTQdDx%2Bv4rJVI1420OLYy%2BiEmv9cpruR0tjgueQ6gRf3pzWM6FpB3n3svirgY54NAyF%2FmDN1Qwm3yFN5Z0hw%3D%3D; stk_lgn=98af63a6-8ab8-4f02-903a-5b2d65a06b60; JSESSIONID=D049DBF777773E9C51F2D8C418102B50; isg=BIuLzP6rVMkjp4idx3rxQ6YdGi9_Ksnoz6jQRf2IZ0ohHKt-hfAv8il68lxXPPea'\n",
    "               ,'authority':'netcn.console.aliyun.com'}\n",
    "    r = requests.get('https://netcn.console.aliyun.com/core/product/infostatic',params=payload,headers=headers)"
   ]
  },
  {
   "cell_type": "code",
   "execution_count": null,
   "metadata": {},
   "outputs": [],
   "source": [
    "## 复杂的post 消息\n",
    "payload = '''{\"version\":\"v1.0\",\"componentName\":\"qcwss\"}'''   \n",
    "r = requests.post('http://wss.tencentyun.com/backend/domain/',data=payload)\n",
    "    "
   ]
  },
  {
   "cell_type": "code",
   "execution_count": 5,
   "metadata": {},
   "outputs": [
    {
     "ename": "JSONDecodeError",
     "evalue": "Expecting value: line 1 column 1 (char 0)",
     "output_type": "error",
     "traceback": [
      "\u001b[0;31m---------------------------------------------------------------------------\u001b[0m",
      "\u001b[0;31mJSONDecodeError\u001b[0m                           Traceback (most recent call last)",
      "\u001b[0;32m<ipython-input-5-52b7ec8d97cc>\u001b[0m in \u001b[0;36m<module>\u001b[0;34m()\u001b[0m\n\u001b[0;32m----> 1\u001b[0;31m \u001b[0mr\u001b[0m\u001b[0;34m.\u001b[0m\u001b[0mjson\u001b[0m\u001b[0;34m(\u001b[0m\u001b[0;34m)\u001b[0m\u001b[0;34m\u001b[0m\u001b[0m\n\u001b[0m",
      "\u001b[0;32m~/miniconda3/lib/python3.6/site-packages/requests/models.py\u001b[0m in \u001b[0;36mjson\u001b[0;34m(self, **kwargs)\u001b[0m\n\u001b[1;32m    890\u001b[0m                     \u001b[0;31m# used.\u001b[0m\u001b[0;34m\u001b[0m\u001b[0;34m\u001b[0m\u001b[0m\n\u001b[1;32m    891\u001b[0m                     \u001b[0;32mpass\u001b[0m\u001b[0;34m\u001b[0m\u001b[0m\n\u001b[0;32m--> 892\u001b[0;31m         \u001b[0;32mreturn\u001b[0m \u001b[0mcomplexjson\u001b[0m\u001b[0;34m.\u001b[0m\u001b[0mloads\u001b[0m\u001b[0;34m(\u001b[0m\u001b[0mself\u001b[0m\u001b[0;34m.\u001b[0m\u001b[0mtext\u001b[0m\u001b[0;34m,\u001b[0m \u001b[0;34m**\u001b[0m\u001b[0mkwargs\u001b[0m\u001b[0;34m)\u001b[0m\u001b[0;34m\u001b[0m\u001b[0m\n\u001b[0m\u001b[1;32m    893\u001b[0m \u001b[0;34m\u001b[0m\u001b[0m\n\u001b[1;32m    894\u001b[0m     \u001b[0;34m@\u001b[0m\u001b[0mproperty\u001b[0m\u001b[0;34m\u001b[0m\u001b[0m\n",
      "\u001b[0;32m~/miniconda3/lib/python3.6/json/__init__.py\u001b[0m in \u001b[0;36mloads\u001b[0;34m(s, encoding, cls, object_hook, parse_float, parse_int, parse_constant, object_pairs_hook, **kw)\u001b[0m\n\u001b[1;32m    352\u001b[0m             \u001b[0mparse_int\u001b[0m \u001b[0;32mis\u001b[0m \u001b[0;32mNone\u001b[0m \u001b[0;32mand\u001b[0m \u001b[0mparse_float\u001b[0m \u001b[0;32mis\u001b[0m \u001b[0;32mNone\u001b[0m \u001b[0;32mand\u001b[0m\u001b[0;34m\u001b[0m\u001b[0m\n\u001b[1;32m    353\u001b[0m             parse_constant is None and object_pairs_hook is None and not kw):\n\u001b[0;32m--> 354\u001b[0;31m         \u001b[0;32mreturn\u001b[0m \u001b[0m_default_decoder\u001b[0m\u001b[0;34m.\u001b[0m\u001b[0mdecode\u001b[0m\u001b[0;34m(\u001b[0m\u001b[0ms\u001b[0m\u001b[0;34m)\u001b[0m\u001b[0;34m\u001b[0m\u001b[0m\n\u001b[0m\u001b[1;32m    355\u001b[0m     \u001b[0;32mif\u001b[0m \u001b[0mcls\u001b[0m \u001b[0;32mis\u001b[0m \u001b[0;32mNone\u001b[0m\u001b[0;34m:\u001b[0m\u001b[0;34m\u001b[0m\u001b[0m\n\u001b[1;32m    356\u001b[0m         \u001b[0mcls\u001b[0m \u001b[0;34m=\u001b[0m \u001b[0mJSONDecoder\u001b[0m\u001b[0;34m\u001b[0m\u001b[0m\n",
      "\u001b[0;32m~/miniconda3/lib/python3.6/json/decoder.py\u001b[0m in \u001b[0;36mdecode\u001b[0;34m(self, s, _w)\u001b[0m\n\u001b[1;32m    337\u001b[0m \u001b[0;34m\u001b[0m\u001b[0m\n\u001b[1;32m    338\u001b[0m         \"\"\"\n\u001b[0;32m--> 339\u001b[0;31m         \u001b[0mobj\u001b[0m\u001b[0;34m,\u001b[0m \u001b[0mend\u001b[0m \u001b[0;34m=\u001b[0m \u001b[0mself\u001b[0m\u001b[0;34m.\u001b[0m\u001b[0mraw_decode\u001b[0m\u001b[0;34m(\u001b[0m\u001b[0ms\u001b[0m\u001b[0;34m,\u001b[0m \u001b[0midx\u001b[0m\u001b[0;34m=\u001b[0m\u001b[0m_w\u001b[0m\u001b[0;34m(\u001b[0m\u001b[0ms\u001b[0m\u001b[0;34m,\u001b[0m \u001b[0;36m0\u001b[0m\u001b[0;34m)\u001b[0m\u001b[0;34m.\u001b[0m\u001b[0mend\u001b[0m\u001b[0;34m(\u001b[0m\u001b[0;34m)\u001b[0m\u001b[0;34m)\u001b[0m\u001b[0;34m\u001b[0m\u001b[0m\n\u001b[0m\u001b[1;32m    340\u001b[0m         \u001b[0mend\u001b[0m \u001b[0;34m=\u001b[0m \u001b[0m_w\u001b[0m\u001b[0;34m(\u001b[0m\u001b[0ms\u001b[0m\u001b[0;34m,\u001b[0m \u001b[0mend\u001b[0m\u001b[0;34m)\u001b[0m\u001b[0;34m.\u001b[0m\u001b[0mend\u001b[0m\u001b[0;34m(\u001b[0m\u001b[0;34m)\u001b[0m\u001b[0;34m\u001b[0m\u001b[0m\n\u001b[1;32m    341\u001b[0m         \u001b[0;32mif\u001b[0m \u001b[0mend\u001b[0m \u001b[0;34m!=\u001b[0m \u001b[0mlen\u001b[0m\u001b[0;34m(\u001b[0m\u001b[0ms\u001b[0m\u001b[0;34m)\u001b[0m\u001b[0;34m:\u001b[0m\u001b[0;34m\u001b[0m\u001b[0m\n",
      "\u001b[0;32m~/miniconda3/lib/python3.6/json/decoder.py\u001b[0m in \u001b[0;36mraw_decode\u001b[0;34m(self, s, idx)\u001b[0m\n\u001b[1;32m    355\u001b[0m             \u001b[0mobj\u001b[0m\u001b[0;34m,\u001b[0m \u001b[0mend\u001b[0m \u001b[0;34m=\u001b[0m \u001b[0mself\u001b[0m\u001b[0;34m.\u001b[0m\u001b[0mscan_once\u001b[0m\u001b[0;34m(\u001b[0m\u001b[0ms\u001b[0m\u001b[0;34m,\u001b[0m \u001b[0midx\u001b[0m\u001b[0;34m)\u001b[0m\u001b[0;34m\u001b[0m\u001b[0m\n\u001b[1;32m    356\u001b[0m         \u001b[0;32mexcept\u001b[0m \u001b[0mStopIteration\u001b[0m \u001b[0;32mas\u001b[0m \u001b[0merr\u001b[0m\u001b[0;34m:\u001b[0m\u001b[0;34m\u001b[0m\u001b[0m\n\u001b[0;32m--> 357\u001b[0;31m             \u001b[0;32mraise\u001b[0m \u001b[0mJSONDecodeError\u001b[0m\u001b[0;34m(\u001b[0m\u001b[0;34m\"Expecting value\"\u001b[0m\u001b[0;34m,\u001b[0m \u001b[0ms\u001b[0m\u001b[0;34m,\u001b[0m \u001b[0merr\u001b[0m\u001b[0;34m.\u001b[0m\u001b[0mvalue\u001b[0m\u001b[0;34m)\u001b[0m \u001b[0;32mfrom\u001b[0m \u001b[0;32mNone\u001b[0m\u001b[0;34m\u001b[0m\u001b[0m\n\u001b[0m\u001b[1;32m    358\u001b[0m         \u001b[0;32mreturn\u001b[0m \u001b[0mobj\u001b[0m\u001b[0;34m,\u001b[0m \u001b[0mend\u001b[0m\u001b[0;34m\u001b[0m\u001b[0m\n",
      "\u001b[0;31mJSONDecodeError\u001b[0m: Expecting value: line 1 column 1 (char 0)"
     ]
    }
   ],
   "source": [
    "r.json()"
   ]
  },
  {
   "cell_type": "code",
   "execution_count": 11,
   "metadata": {},
   "outputs": [
    {
     "data": {
      "text/plain": [
       "'<!DOCTYPE HTML>\\n<html>\\n\\n<head>\\n    <meta charset=\"utf-8\">\\n\\n    <title>Jupyter Notebook</title>\\n    <link id=\"favicon\" rel=\"shortcut icon\" type=\"image/x-icon\" href=\"/static/base/images/favicon.ico?v=97c6417ed01bdc0ae3ef32ae4894fd03\">\\n    <meta http-equiv=\"X-UA-Compatible\" content=\"IE=edge\" />\\n    <link rel=\"stylesheet\" href=\"/static/components/jquery-ui/themes/smoothness/jquery-ui.min.css?v=9b2c8d3489227115310662a343fce11c\" type=\"text/css\" />\\n    <link rel=\"stylesheet\" href=\"/static/components/jquery-typeahead/dist/jquery.typeahead.min.css?v=7afb461de36accb1aa133a1710f5bc56\" type=\"text/css\" />\\n    <meta name=\"viewport\" content=\"width=device-width, initial-scale=1.0\">\\n    \\n    \\n\\n    <link rel=\"stylesheet\" href=\"/static/style/style.min.css?v=d87994e2e71f4741e4c4e3af747f9875\" type=\"text/css\"/>\\n    \\n<link rel=\"stylesheet\" href=\"/static/auth/css/override.css?v=19ec59d2c4f1203c49fe47462028cd9a\" type=\"text/css\" />\\n\\n    <link rel=\"stylesheet\" href=\"/custom/custom.css\" type=\"text/css\" />\\n    <script src=\"/static/components/es6-promise/promise.min.js?v=f004a16cb856e0ff11781d01ec5ca8fe\" type=\"text/javascript\" charset=\"utf-8\"></script>\\n    <script src=\"/static/components/preact/index.js?v=5b98fce8b86ce059de89f9e728e16957\" type=\"text/javascript\"></script>\\n    <script src=\"/static/components/proptypes/index.js?v=c40890eb04df9811fcc4d47e53a29604\" type=\"text/javascript\"></script>\\n    <script src=\"/static/components/preact-compat/index.js?v=d376eb109a00b9b2e8c0d30782eb6df7\" type=\"text/javascript\"></script>\\n    <script src=\"/static/components/requirejs/require.js?v=6da8be361b9ee26c5e721e76c6d4afce\" type=\"text/javascript\" charset=\"utf-8\"></script>\\n    <script>\\n      require.config({\\n          \\n          urlArgs: \"v=20180913123612\",\\n          \\n          baseUrl: \\'/static/\\',\\n          paths: {\\n            \\'auth/js/main\\': \\'auth/js/main.min\\',\\n            custom : \\'/custom\\',\\n            nbextensions : \\'/nbextensions\\',\\n            kernelspecs : \\'/kernelspecs\\',\\n            underscore : \\'components/underscore/underscore-min\\',\\n            backbone : \\'components/backbone/backbone-min\\',\\n            jed: \\'components/jed/jed\\',\\n            jquery: \\'components/jquery/jquery.min\\',\\n            json: \\'components/requirejs-plugins/src/json\\',\\n            text: \\'components/requirejs-text/text\\',\\n            bootstrap: \\'components/bootstrap/js/bootstrap.min\\',\\n            bootstraptour: \\'components/bootstrap-tour/build/js/bootstrap-tour.min\\',\\n            \\'jquery-ui\\': \\'components/jquery-ui/ui/minified/jquery-ui.min\\',\\n            moment: \\'components/moment/min/moment-with-locales\\',\\n            codemirror: \\'components/codemirror\\',\\n            termjs: \\'components/xterm.js/dist/xterm\\',\\n            typeahead: \\'components/jquery-typeahead/dist/jquery.typeahead.min\\',\\n          },\\n          map: { // for backward compatibility\\n              \"*\": {\\n                  \"jqueryui\": \"jquery-ui\",\\n              }\\n          },\\n          shim: {\\n            typeahead: {\\n              deps: [\"jquery\"],\\n              exports: \"typeahead\"\\n            },\\n            underscore: {\\n              exports: \\'_\\'\\n            },\\n            backbone: {\\n              deps: [\"underscore\", \"jquery\"],\\n              exports: \"Backbone\"\\n            },\\n            bootstrap: {\\n              deps: [\"jquery\"],\\n              exports: \"bootstrap\"\\n            },\\n            bootstraptour: {\\n              deps: [\"bootstrap\"],\\n              exports: \"Tour\"\\n            },\\n            \"jquery-ui\": {\\n              deps: [\"jquery\"],\\n              exports: \"$\"\\n            }\\n          },\\n          waitSeconds: 30,\\n      });\\n\\n      require.config({\\n          map: {\\n              \\'*\\':{\\n                \\'contents\\': \\'services/contents\\',\\n              }\\n          }\\n      });\\n\\n      // error-catching custom.js shim.\\n      define(\"custom\", function (require, exports, module) {\\n          try {\\n              var custom = require(\\'custom/custom\\');\\n              console.debug(\\'loaded custom.js\\');\\n              return custom;\\n          } catch (e) {\\n              console.error(\"error loading custom.js\", e);\\n              return {};\\n          }\\n      })\\n    </script>\\n\\n    \\n    \\n\\n</head>\\n\\n<body class=\"\"\\n \\n  \\n \\ndir=\"ltr\">\\n\\n<noscript>\\n    <div id=\\'noscript\\'>\\n      Jupyter Notebook requires JavaScript.<br>\\n      Please enable it to proceed. \\n  </div>\\n</noscript>\\n\\n<div id=\"header\">\\n  <div id=\"header-container\" class=\"container\">\\n  <div id=\"ipython_notebook\" class=\"nav navbar-brand\"><a href=\"/lab\" title=\\'dashboard\\'>\\n      <img src=\\'/static/base/images/logo.png?v=641991992878ee24c6f3826e81054a0f\\' alt=\\'Jupyter Notebook\\'/>\\n  </a></div>\\n\\n  \\n  \\n  \\n  \\n  \\n  \\n\\n\\n  \\n  \\n  </div>\\n  <div class=\"header-bar\"></div>\\n\\n  \\n  \\n</div>\\n\\n<div id=\"site\">\\n\\n\\n<div id=\"ipython-main-app\" class=\"container\">\\n\\n    \\n    \\n    <div class=\"row\">\\n    <div class=\"navbar col-sm-8\">\\n      <div class=\"navbar-inner\">\\n        <div class=\"container\">\\n          <div class=\"center-nav\">\\n          \\n            <p class=\"navbar-text nav\">Password:</p>\\n          \\n            <form action=\"/login?next=%2Flab\" method=\"post\" class=\"navbar-form pull-left\">\\n              <input type=\"hidden\" name=\"_xsrf\" value=\"2|5f9cde88|6aef16d42a54529524bfc27a13a657b7|1536820750\"/>\\n              <input type=\"password\" name=\"password\" id=\"password_input\" class=\"form-control\">\\n              <button type=\"submit\" id=\"login_submit\">Log in</button>\\n            </form>\\n          </div>\\n        </div>\\n      </div>\\n    </div>\\n    </div>\\n    \\n    \\n    \\n</div>\\n\\n\\n</div>\\n\\n\\n\\n\\n\\n\\n\\n\\n<script type=\"text/javascript\">\\n  require([\"auth/js/main\"], function (auth) {\\n    auth.login_main();\\n  });\\n</script>\\n\\n\\n\\n<script type=\\'text/javascript\\'>\\n  function _remove_token_from_url() {\\n    if (window.location.search.length <= 1) {\\n      return;\\n    }\\n    var search_parameters = window.location.search.slice(1).split(\\'&\\');\\n    for (var i = 0; i < search_parameters.length; i++) {\\n      if (search_parameters[i].split(\\'=\\')[0] === \\'token\\') {\\n        // remote token from search parameters\\n        search_parameters.splice(i, 1);\\n        var new_search = \\'\\';\\n        if (search_parameters.length) {\\n          new_search = \\'?\\' + search_parameters.join(\\'&\\');\\n        }\\n        var new_url = window.location.origin + \\n                      window.location.pathname + \\n                      new_search + \\n                      window.location.hash;\\n        window.history.replaceState({}, \"\", new_url);\\n        return;\\n      }\\n    }\\n  }\\n  _remove_token_from_url();\\n</script>\\n</body>\\n\\n</html>'"
      ]
     },
     "execution_count": 11,
     "metadata": {},
     "output_type": "execute_result"
    },
    {
     "data": {
      "text/plain": [
       "b'<!DOCTYPE HTML>\\n<html>\\n\\n<head>\\n    <meta charset=\"utf-8\">\\n\\n    <title>Jupyter Notebook</title>\\n    <link id=\"favicon\" rel=\"shortcut icon\" type=\"image/x-icon\" href=\"/static/base/images/favicon.ico?v=97c6417ed01bdc0ae3ef32ae4894fd03\">\\n    <meta http-equiv=\"X-UA-Compatible\" content=\"IE=edge\" />\\n    <link rel=\"stylesheet\" href=\"/static/components/jquery-ui/themes/smoothness/jquery-ui.min.css?v=9b2c8d3489227115310662a343fce11c\" type=\"text/css\" />\\n    <link rel=\"stylesheet\" href=\"/static/components/jquery-typeahead/dist/jquery.typeahead.min.css?v=7afb461de36accb1aa133a1710f5bc56\" type=\"text/css\" />\\n    <meta name=\"viewport\" content=\"width=device-width, initial-scale=1.0\">\\n    \\n    \\n\\n    <link rel=\"stylesheet\" href=\"/static/style/style.min.css?v=d87994e2e71f4741e4c4e3af747f9875\" type=\"text/css\"/>\\n    \\n<link rel=\"stylesheet\" href=\"/static/auth/css/override.css?v=19ec59d2c4f1203c49fe47462028cd9a\" type=\"text/css\" />\\n\\n    <link rel=\"stylesheet\" href=\"/custom/custom.css\" type=\"text/css\" />\\n    <script src=\"/static/components/es6-promise/promise.min.js?v=f004a16cb856e0ff11781d01ec5ca8fe\" type=\"text/javascript\" charset=\"utf-8\"></script>\\n    <script src=\"/static/components/preact/index.js?v=5b98fce8b86ce059de89f9e728e16957\" type=\"text/javascript\"></script>\\n    <script src=\"/static/components/proptypes/index.js?v=c40890eb04df9811fcc4d47e53a29604\" type=\"text/javascript\"></script>\\n    <script src=\"/static/components/preact-compat/index.js?v=d376eb109a00b9b2e8c0d30782eb6df7\" type=\"text/javascript\"></script>\\n    <script src=\"/static/components/requirejs/require.js?v=6da8be361b9ee26c5e721e76c6d4afce\" type=\"text/javascript\" charset=\"utf-8\"></script>\\n    <script>\\n      require.config({\\n          \\n          urlArgs: \"v=20180913123612\",\\n          \\n          baseUrl: \\'/static/\\',\\n          paths: {\\n            \\'auth/js/main\\': \\'auth/js/main.min\\',\\n            custom : \\'/custom\\',\\n            nbextensions : \\'/nbextensions\\',\\n            kernelspecs : \\'/kernelspecs\\',\\n            underscore : \\'components/underscore/underscore-min\\',\\n            backbone : \\'components/backbone/backbone-min\\',\\n            jed: \\'components/jed/jed\\',\\n            jquery: \\'components/jquery/jquery.min\\',\\n            json: \\'components/requirejs-plugins/src/json\\',\\n            text: \\'components/requirejs-text/text\\',\\n            bootstrap: \\'components/bootstrap/js/bootstrap.min\\',\\n            bootstraptour: \\'components/bootstrap-tour/build/js/bootstrap-tour.min\\',\\n            \\'jquery-ui\\': \\'components/jquery-ui/ui/minified/jquery-ui.min\\',\\n            moment: \\'components/moment/min/moment-with-locales\\',\\n            codemirror: \\'components/codemirror\\',\\n            termjs: \\'components/xterm.js/dist/xterm\\',\\n            typeahead: \\'components/jquery-typeahead/dist/jquery.typeahead.min\\',\\n          },\\n          map: { // for backward compatibility\\n              \"*\": {\\n                  \"jqueryui\": \"jquery-ui\",\\n              }\\n          },\\n          shim: {\\n            typeahead: {\\n              deps: [\"jquery\"],\\n              exports: \"typeahead\"\\n            },\\n            underscore: {\\n              exports: \\'_\\'\\n            },\\n            backbone: {\\n              deps: [\"underscore\", \"jquery\"],\\n              exports: \"Backbone\"\\n            },\\n            bootstrap: {\\n              deps: [\"jquery\"],\\n              exports: \"bootstrap\"\\n            },\\n            bootstraptour: {\\n              deps: [\"bootstrap\"],\\n              exports: \"Tour\"\\n            },\\n            \"jquery-ui\": {\\n              deps: [\"jquery\"],\\n              exports: \"$\"\\n            }\\n          },\\n          waitSeconds: 30,\\n      });\\n\\n      require.config({\\n          map: {\\n              \\'*\\':{\\n                \\'contents\\': \\'services/contents\\',\\n              }\\n          }\\n      });\\n\\n      // error-catching custom.js shim.\\n      define(\"custom\", function (require, exports, module) {\\n          try {\\n              var custom = require(\\'custom/custom\\');\\n              console.debug(\\'loaded custom.js\\');\\n              return custom;\\n          } catch (e) {\\n              console.error(\"error loading custom.js\", e);\\n              return {};\\n          }\\n      })\\n    </script>\\n\\n    \\n    \\n\\n</head>\\n\\n<body class=\"\"\\n \\n  \\n \\ndir=\"ltr\">\\n\\n<noscript>\\n    <div id=\\'noscript\\'>\\n      Jupyter Notebook requires JavaScript.<br>\\n      Please enable it to proceed. \\n  </div>\\n</noscript>\\n\\n<div id=\"header\">\\n  <div id=\"header-container\" class=\"container\">\\n  <div id=\"ipython_notebook\" class=\"nav navbar-brand\"><a href=\"/lab\" title=\\'dashboard\\'>\\n      <img src=\\'/static/base/images/logo.png?v=641991992878ee24c6f3826e81054a0f\\' alt=\\'Jupyter Notebook\\'/>\\n  </a></div>\\n\\n  \\n  \\n  \\n  \\n  \\n  \\n\\n\\n  \\n  \\n  </div>\\n  <div class=\"header-bar\"></div>\\n\\n  \\n  \\n</div>\\n\\n<div id=\"site\">\\n\\n\\n<div id=\"ipython-main-app\" class=\"container\">\\n\\n    \\n    \\n    <div class=\"row\">\\n    <div class=\"navbar col-sm-8\">\\n      <div class=\"navbar-inner\">\\n        <div class=\"container\">\\n          <div class=\"center-nav\">\\n          \\n            <p class=\"navbar-text nav\">Password:</p>\\n          \\n            <form action=\"/login?next=%2Flab\" method=\"post\" class=\"navbar-form pull-left\">\\n              <input type=\"hidden\" name=\"_xsrf\" value=\"2|5f9cde88|6aef16d42a54529524bfc27a13a657b7|1536820750\"/>\\n              <input type=\"password\" name=\"password\" id=\"password_input\" class=\"form-control\">\\n              <button type=\"submit\" id=\"login_submit\">Log in</button>\\n            </form>\\n          </div>\\n        </div>\\n      </div>\\n    </div>\\n    </div>\\n    \\n    \\n    \\n</div>\\n\\n\\n</div>\\n\\n\\n\\n\\n\\n\\n\\n\\n<script type=\"text/javascript\">\\n  require([\"auth/js/main\"], function (auth) {\\n    auth.login_main();\\n  });\\n</script>\\n\\n\\n\\n<script type=\\'text/javascript\\'>\\n  function _remove_token_from_url() {\\n    if (window.location.search.length <= 1) {\\n      return;\\n    }\\n    var search_parameters = window.location.search.slice(1).split(\\'&\\');\\n    for (var i = 0; i < search_parameters.length; i++) {\\n      if (search_parameters[i].split(\\'=\\')[0] === \\'token\\') {\\n        // remote token from search parameters\\n        search_parameters.splice(i, 1);\\n        var new_search = \\'\\';\\n        if (search_parameters.length) {\\n          new_search = \\'?\\' + search_parameters.join(\\'&\\');\\n        }\\n        var new_url = window.location.origin + \\n                      window.location.pathname + \\n                      new_search + \\n                      window.location.hash;\\n        window.history.replaceState({}, \"\", new_url);\\n        return;\\n      }\\n    }\\n  }\\n  _remove_token_from_url();\\n</script>\\n</body>\\n\\n</html>'"
      ]
     },
     "execution_count": 11,
     "metadata": {},
     "output_type": "execute_result"
    }
   ],
   "source": [
    "r.text\n",
    "r.content"
   ]
  },
  {
   "cell_type": "code",
   "execution_count": null,
   "metadata": {},
   "outputs": [],
   "source": []
  }
 ],
 "metadata": {
  "kernelspec": {
   "display_name": "Python 3",
   "language": "python",
   "name": "python3"
  },
  "language_info": {
   "codemirror_mode": {
    "name": "ipython",
    "version": 3
   },
   "file_extension": ".py",
   "mimetype": "text/x-python",
   "name": "python",
   "nbconvert_exporter": "python",
   "pygments_lexer": "ipython3",
   "version": "3.6.3"
  }
 },
 "nbformat": 4,
 "nbformat_minor": 2
}
