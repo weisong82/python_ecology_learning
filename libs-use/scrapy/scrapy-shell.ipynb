{
 "cells": [
  {
   "cell_type": "markdown",
   "metadata": {},
   "source": [
    "https://scrapy-chs.readthedocs.io/zh_CN/latest/topics/shell.html\n",
    "\n",
    "终端会话(shell session)样例 可以方便的调试选择器，处理逻辑\n",
    "\n",
    "scrapy shell https://wanwang.aliyun.com/help/price.html \n",
    "\n",
    "\n",
    "response.xpath(\"//*[@id='domain_tr']\")\n",
    "\n",
    "response.css() \n",
    "\n",
    "response.selector"
   ]
  },
  {
   "cell_type": "code",
   "execution_count": null,
   "metadata": {},
   "outputs": [],
   "source": []
  }
 ],
 "metadata": {
  "kernelspec": {
   "display_name": "Python 3",
   "language": "python",
   "name": "python3"
  },
  "language_info": {
   "codemirror_mode": {
    "name": "ipython",
    "version": 3
   },
   "file_extension": ".py",
   "mimetype": "text/x-python",
   "name": "python",
   "nbconvert_exporter": "python",
   "pygments_lexer": "ipython3",
   "version": "3.6.3"
  }
 },
 "nbformat": 4,
 "nbformat_minor": 2
}
