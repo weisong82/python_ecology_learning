{
 "cells": [
  {
   "cell_type": "markdown",
   "metadata": {},
   "source": [
    "#Time Series\n",
    "http://pandas.pydata.org/pandas-docs/version/0.22/timeseries.html \n",
    "\n",
    "    \n",
    "pandas has proven very successful as a tool for working with time series data, especially in\n",
    "the financial data analysis space. Using the NumPy datetime64 and timedelta64 dtypes, we have consolidated \n",
    "a large number of features from other Python libraries like scikits.timeseries as well as created a tremendous\n",
    "amount of new functionality for manipulating time series data.\n",
    "\n",
    "In working with time series data, we will frequently seek to:\n",
    "\n",
    "generate sequences of fixed-frequency dates and time spans\n",
    "conform or convert time series to a particular frequency\n",
    "compute “relative” dates based on various non-standard time increments (e.g. 5 business days before the last business day of the year), or “roll” dates forward or backward"
   ]
  },
  {
   "cell_type": "code",
   "execution_count": null,
   "metadata": {},
   "outputs": [],
   "source": [
    "import pandas as pd"
   ]
  },
  {
   "cell_type": "code",
   "execution_count": null,
   "metadata": {},
   "outputs": [],
   "source": [
    "rng = pd.date_range('1/1/2011', periods=72, freq='H')\n",
    "rng"
   ]
  },
  {
   "cell_type": "code",
   "execution_count": null,
   "metadata": {},
   "outputs": [],
   "source": []
  }
 ],
 "metadata": {
  "kernelspec": {
   "display_name": "Python 3",
   "language": "python",
   "name": "python3"
  },
  "language_info": {
   "codemirror_mode": {
    "name": "ipython",
    "version": 3
   },
   "file_extension": ".py",
   "mimetype": "text/x-python",
   "name": "python",
   "nbconvert_exporter": "python",
   "pygments_lexer": "ipython3",
   "version": "3.6.3"
  }
 },
 "nbformat": 4,
 "nbformat_minor": 2
}
