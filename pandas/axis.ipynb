{
 "cells": [
  {
   "cell_type": "code",
   "execution_count": 1,
   "metadata": {},
   "outputs": [],
   "source": [
    "import pandas as pd\n",
    "import numpy as np\n",
    "%matplotlib inline\n",
    "import matplotlib.pyplot as plt\n",
    "from IPython.core.interactiveshell import InteractiveShell\n",
    "InteractiveShell.ast_node_interactivity = \"all\""
   ]
  },
  {
   "cell_type": "markdown",
   "metadata": {},
   "source": [
    "使用0值表示沿着每一列或行标签\\索引值向下执行方法\n",
    "\n",
    "使用1值表示沿着每一行或者列标签模向执行对应的方法\n",
    "\n",
    "Pandas保持了Numpy对关键字axis的用法，用法在Numpy库的词汇表当中有过解释：\n",
    "\n",
    "轴用来为超过一维的数组定义的属性，二维数据拥有两个轴：第0轴沿着行的垂直往下，第1轴沿着列的方向水平延伸。\n",
    "\n",
    "所以问题当中第一个列子 df.mean(axis=1)代表沿着列水平方向计算均值，而第二个列子df.drop(name, axis=1) 代表将name对应的列标签沿着水平的方向依次删掉。 \n",
    "https://www.cnblogs.com/nyist-/p/7998326.html\n",
    "\n",
    "[img:https://upload-images.jianshu.io/upload_images/2233157-b77105789e36c847.jpg?imageMogr2/auto-orient/strip%7CimageView2/2/w/652]"
   ]
  },
  {
   "cell_type": "code",
   "execution_count": 2,
   "metadata": {},
   "outputs": [
    {
     "data": {
      "text/html": [
       "<div>\n",
       "<style scoped>\n",
       "    .dataframe tbody tr th:only-of-type {\n",
       "        vertical-align: middle;\n",
       "    }\n",
       "\n",
       "    .dataframe tbody tr th {\n",
       "        vertical-align: top;\n",
       "    }\n",
       "\n",
       "    .dataframe thead th {\n",
       "        text-align: right;\n",
       "    }\n",
       "</style>\n",
       "<table border=\"1\" class=\"dataframe\">\n",
       "  <thead>\n",
       "    <tr style=\"text-align: right;\">\n",
       "      <th></th>\n",
       "      <th>a</th>\n",
       "      <th>b</th>\n",
       "      <th>c</th>\n",
       "      <th>d</th>\n",
       "      <th>e</th>\n",
       "    </tr>\n",
       "  </thead>\n",
       "  <tbody>\n",
       "    <tr>\n",
       "      <th>Joe</th>\n",
       "      <td>0.647653</td>\n",
       "      <td>-0.885925</td>\n",
       "      <td>0.075076</td>\n",
       "      <td>1.122966</td>\n",
       "      <td>-0.225728</td>\n",
       "    </tr>\n",
       "    <tr>\n",
       "      <th>Steve</th>\n",
       "      <td>-1.021308</td>\n",
       "      <td>1.279263</td>\n",
       "      <td>1.111880</td>\n",
       "      <td>0.308020</td>\n",
       "      <td>-1.282129</td>\n",
       "    </tr>\n",
       "    <tr>\n",
       "      <th>Wes</th>\n",
       "      <td>1.325015</td>\n",
       "      <td>0.245652</td>\n",
       "      <td>-0.162821</td>\n",
       "      <td>0.093958</td>\n",
       "      <td>-0.053830</td>\n",
       "    </tr>\n",
       "    <tr>\n",
       "      <th>Jim</th>\n",
       "      <td>-0.521143</td>\n",
       "      <td>0.432093</td>\n",
       "      <td>1.268275</td>\n",
       "      <td>0.090796</td>\n",
       "      <td>-0.224709</td>\n",
       "    </tr>\n",
       "    <tr>\n",
       "      <th>Travis</th>\n",
       "      <td>1.027347</td>\n",
       "      <td>1.117664</td>\n",
       "      <td>-1.237098</td>\n",
       "      <td>-1.146591</td>\n",
       "      <td>0.070188</td>\n",
       "    </tr>\n",
       "  </tbody>\n",
       "</table>\n",
       "</div>"
      ],
      "text/plain": [
       "               a         b         c         d         e\n",
       "Joe     0.647653 -0.885925  0.075076  1.122966 -0.225728\n",
       "Steve  -1.021308  1.279263  1.111880  0.308020 -1.282129\n",
       "Wes     1.325015  0.245652 -0.162821  0.093958 -0.053830\n",
       "Jim    -0.521143  0.432093  1.268275  0.090796 -0.224709\n",
       "Travis  1.027347  1.117664 -1.237098 -1.146591  0.070188"
      ]
     },
     "execution_count": 2,
     "metadata": {},
     "output_type": "execute_result"
    }
   ],
   "source": [
    "people=pd.DataFrame(np.random.randn(5,5),\n",
    "                 columns=['a','b','c','d','e'],\n",
    "                 index=['Joe','Steve','Wes','Jim','Travis'])\n",
    "people"
   ]
  },
  {
   "cell_type": "code",
   "execution_count": 3,
   "metadata": {},
   "outputs": [
    {
     "data": {
      "text/plain": [
       "a    0.291513\n",
       "b    0.437750\n",
       "c    0.211062\n",
       "d    0.093830\n",
       "e   -0.343241\n",
       "dtype: float64"
      ]
     },
     "execution_count": 3,
     "metadata": {},
     "output_type": "execute_result"
    },
    {
     "data": {
      "text/plain": [
       "Joe       0.146808\n",
       "Steve     0.079145\n",
       "Wes       0.289595\n",
       "Jim       0.209062\n",
       "Travis   -0.033698\n",
       "dtype: float64"
      ]
     },
     "execution_count": 3,
     "metadata": {},
     "output_type": "execute_result"
    }
   ],
   "source": [
    "people.mean(axis=0) # 竖向，列平均\n",
    "people.mean(axis=1) #横向， 行平均"
   ]
  },
  {
   "cell_type": "code",
   "execution_count": 4,
   "metadata": {},
   "outputs": [
    {
     "data": {
      "text/html": [
       "<div>\n",
       "<style scoped>\n",
       "    .dataframe tbody tr th:only-of-type {\n",
       "        vertical-align: middle;\n",
       "    }\n",
       "\n",
       "    .dataframe tbody tr th {\n",
       "        vertical-align: top;\n",
       "    }\n",
       "\n",
       "    .dataframe thead th {\n",
       "        text-align: right;\n",
       "    }\n",
       "</style>\n",
       "<table border=\"1\" class=\"dataframe\">\n",
       "  <thead>\n",
       "    <tr style=\"text-align: right;\">\n",
       "      <th></th>\n",
       "      <th>b</th>\n",
       "      <th>c</th>\n",
       "      <th>d</th>\n",
       "      <th>e</th>\n",
       "    </tr>\n",
       "  </thead>\n",
       "  <tbody>\n",
       "    <tr>\n",
       "      <th>Joe</th>\n",
       "      <td>-0.885925</td>\n",
       "      <td>0.075076</td>\n",
       "      <td>1.122966</td>\n",
       "      <td>-0.225728</td>\n",
       "    </tr>\n",
       "    <tr>\n",
       "      <th>Steve</th>\n",
       "      <td>1.279263</td>\n",
       "      <td>1.111880</td>\n",
       "      <td>0.308020</td>\n",
       "      <td>-1.282129</td>\n",
       "    </tr>\n",
       "    <tr>\n",
       "      <th>Wes</th>\n",
       "      <td>0.245652</td>\n",
       "      <td>-0.162821</td>\n",
       "      <td>0.093958</td>\n",
       "      <td>-0.053830</td>\n",
       "    </tr>\n",
       "    <tr>\n",
       "      <th>Jim</th>\n",
       "      <td>0.432093</td>\n",
       "      <td>1.268275</td>\n",
       "      <td>0.090796</td>\n",
       "      <td>-0.224709</td>\n",
       "    </tr>\n",
       "    <tr>\n",
       "      <th>Travis</th>\n",
       "      <td>1.117664</td>\n",
       "      <td>-1.237098</td>\n",
       "      <td>-1.146591</td>\n",
       "      <td>0.070188</td>\n",
       "    </tr>\n",
       "  </tbody>\n",
       "</table>\n",
       "</div>"
      ],
      "text/plain": [
       "               b         c         d         e\n",
       "Joe    -0.885925  0.075076  1.122966 -0.225728\n",
       "Steve   1.279263  1.111880  0.308020 -1.282129\n",
       "Wes     0.245652 -0.162821  0.093958 -0.053830\n",
       "Jim     0.432093  1.268275  0.090796 -0.224709\n",
       "Travis  1.117664 -1.237098 -1.146591  0.070188"
      ]
     },
     "execution_count": 4,
     "metadata": {},
     "output_type": "execute_result"
    }
   ],
   "source": [
    "people.copy().drop('a',axis=1)  ##删除了a列！！！！注意"
   ]
  },
  {
   "cell_type": "code",
   "execution_count": 5,
   "metadata": {},
   "outputs": [
    {
     "data": {
      "text/html": [
       "<div>\n",
       "<style scoped>\n",
       "    .dataframe tbody tr th:only-of-type {\n",
       "        vertical-align: middle;\n",
       "    }\n",
       "\n",
       "    .dataframe tbody tr th {\n",
       "        vertical-align: top;\n",
       "    }\n",
       "\n",
       "    .dataframe thead th {\n",
       "        text-align: right;\n",
       "    }\n",
       "</style>\n",
       "<table border=\"1\" class=\"dataframe\">\n",
       "  <thead>\n",
       "    <tr style=\"text-align: right;\">\n",
       "      <th></th>\n",
       "      <th>a</th>\n",
       "      <th>b</th>\n",
       "      <th>c</th>\n",
       "      <th>d</th>\n",
       "      <th>e</th>\n",
       "    </tr>\n",
       "  </thead>\n",
       "  <tbody>\n",
       "    <tr>\n",
       "      <th>Steve</th>\n",
       "      <td>-1.021308</td>\n",
       "      <td>1.279263</td>\n",
       "      <td>1.111880</td>\n",
       "      <td>0.308020</td>\n",
       "      <td>-1.282129</td>\n",
       "    </tr>\n",
       "    <tr>\n",
       "      <th>Wes</th>\n",
       "      <td>1.325015</td>\n",
       "      <td>0.245652</td>\n",
       "      <td>-0.162821</td>\n",
       "      <td>0.093958</td>\n",
       "      <td>-0.053830</td>\n",
       "    </tr>\n",
       "    <tr>\n",
       "      <th>Jim</th>\n",
       "      <td>-0.521143</td>\n",
       "      <td>0.432093</td>\n",
       "      <td>1.268275</td>\n",
       "      <td>0.090796</td>\n",
       "      <td>-0.224709</td>\n",
       "    </tr>\n",
       "    <tr>\n",
       "      <th>Travis</th>\n",
       "      <td>1.027347</td>\n",
       "      <td>1.117664</td>\n",
       "      <td>-1.237098</td>\n",
       "      <td>-1.146591</td>\n",
       "      <td>0.070188</td>\n",
       "    </tr>\n",
       "  </tbody>\n",
       "</table>\n",
       "</div>"
      ],
      "text/plain": [
       "               a         b         c         d         e\n",
       "Steve  -1.021308  1.279263  1.111880  0.308020 -1.282129\n",
       "Wes     1.325015  0.245652 -0.162821  0.093958 -0.053830\n",
       "Jim    -0.521143  0.432093  1.268275  0.090796 -0.224709\n",
       "Travis  1.027347  1.117664 -1.237098 -1.146591  0.070188"
      ]
     },
     "execution_count": 5,
     "metadata": {},
     "output_type": "execute_result"
    }
   ],
   "source": [
    "people.copy().drop('Joe',axis=0)  ## 删除了一行"
   ]
  },
  {
   "cell_type": "code",
   "execution_count": null,
   "metadata": {},
   "outputs": [],
   "source": []
  }
 ],
 "metadata": {
  "kernelspec": {
   "display_name": "Python 3",
   "language": "python",
   "name": "python3"
  },
  "language_info": {
   "codemirror_mode": {
    "name": "ipython",
    "version": 3
   },
   "file_extension": ".py",
   "mimetype": "text/x-python",
   "name": "python",
   "nbconvert_exporter": "python",
   "pygments_lexer": "ipython3",
   "version": "3.6.3"
  }
 },
 "nbformat": 4,
 "nbformat_minor": 2
}
