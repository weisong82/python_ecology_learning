{
 "cells": [
  {
   "cell_type": "markdown",
   "metadata": {},
   "source": [
    "https://www.kaggle.com/songwei82/break-into-data-science-01-pandas-tutorial/editnb\n",
    "\n",
    "from kaggle case! 学习"
   ]
  },
  {
   "cell_type": "markdown",
   "metadata": {},
   "source": [
    "**1. Data Input/Output**\n",
    "  file,json,csv , html  sql\n",
    "  \n",
    "**2. Inspecting the Data**\n",
    "  info() head() tail() shape describe()\n",
    "  \n",
    "  nunique() 取值个数\n",
    "  unique()所有取值\n",
    "**3. Cleaning the Data\n",
    "    data = data.dropna()  去掉全null行\n",
    "     data.dropna(axis=1) 去掉含有null的列；不常用\n",
    "     \n",
    "s.astype(float) # This will convert the datatype of the series to float *Please note that \"s\" here is a Pandas Series\n",
    "\n",
    "s.replace(1,'one') # This will replace all values equal to 1 with 'one'\n",
    "\n",
    "s.replace([1,3],['one','three']) #This will replace all 1 with 'one' and 3 with 'three'\n",
    "\n",
    "data.rename(columns=lambda x: x + 1) #Mass renaming of columns\n",
    "\n",
    "data.rename(columns={'oldname': 'new name'}) #Selective renaming\n",
    "\n",
    "data.set_index('column_one') # This will change the index\n",
    "\n",
    "data.rename(index=lambda x: x + 1) #Mass renaming of index\n",
    "\n",
    "data.dropna(axis=1,thresh=n) #This will drop all rows have have less than n non null values\n",
    "\n",
    "data.fillna(x) # This will replaces all null values with x\n",
    "\n",
    "s.fillna(s.mean()) #This will replace all null values with the mean (mean can be replaced with almost any function from the below section) :\n",
    "\n",
    "data.corr() #This will return the correlation between columns in a DataFrame\n",
    "\n",
    "data.count() #This will return the number of non-null values in each DataFrame column\n",
    "\n",
    "data.max() #This will return the highest value in each column\n",
    "\n",
    "data.min() #This will return the lowest value in each column     "
   ]
  },
  {
   "cell_type": "markdown",
   "metadata": {},
   "source": [
    "data.sort_values([col1,col2],ascending=[True,False]) # This would sort values by col1 in ascending order then col2 in descending order\n",
    "\n",
    "If you want to create a Pivot Table:\n",
    "> data.pivot_table(index=col1,values=[col2,col3],aggfunc=mean) # This will create a pivot table that groups by col1 and calculates the mean of col2 and col3\n",
    "\n",
    "Additional useful functions:\n",
    "> data.groupby(col1).agg(np.mean) # This will find the average across all columns for every unique column 1 group\n",
    "\n",
    "> data.apply(np.mean) # This will apply a function across each column\n",
    "\n",
    "> data.apply(np.max, axis=1) # This will apply a function across each row"
   ]
  },
  {
   "cell_type": "markdown",
   "metadata": {},
   "source": [
    "**4. Data Selection\n",
    "\n",
    "data['State'].head()\n",
    "data[['State', 'TotalPop']].head() \n",
    "\n",
    "data['State'].iloc[0] #Selection by position (On a Series) \n",
    "#Please note that in Python the first index is 0 - not 1\n",
    "\n",
    "\n",
    "data['State'].loc[0] # Selection by index\n",
    "#This method will let you select data based on the index number.. so s.loc[0] will be Alabama (first State, alphabetically)\n",
    "\n",
    "#You can select the first row as the following:\n",
    "data.iloc[0,:] # Please note that \":\" means to include all.\n",
    "\n",
    "\n",
    "data.iloc[:,1].head() # Second column\n",
    "\n",
    "data.iloc[0,0]# First element of first column, and so on..."
   ]
  }
 ],
 "metadata": {
  "kernelspec": {
   "display_name": "Python 3",
   "language": "python",
   "name": "python3"
  },
  "language_info": {
   "codemirror_mode": {
    "name": "ipython",
    "version": 3
   },
   "file_extension": ".py",
   "mimetype": "text/x-python",
   "name": "python",
   "nbconvert_exporter": "python",
   "pygments_lexer": "ipython3",
   "version": "3.6.3"
  }
 },
 "nbformat": 4,
 "nbformat_minor": 2
}
